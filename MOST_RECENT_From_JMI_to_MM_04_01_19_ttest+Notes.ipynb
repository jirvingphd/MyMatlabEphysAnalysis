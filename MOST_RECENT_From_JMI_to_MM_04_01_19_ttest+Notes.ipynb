{
  "nbformat": 4,
  "nbformat_minor": 0,
  "metadata": {
    "colab": {
      "name": "MOST_RECENT_From_JMI-to-MM 04-01-19_ttest+Notes.ipynb",
      "version": "0.3.2",
      "provenance": [],
      "collapsed_sections": [
        "EZeLgicvwwP6",
        "hLrUyfOEwwQG",
        "O0xNoo6vwwQV",
        "GtI-okJkwwQa",
        "Qk9N1jMywwQf",
        "GDzeDK5gwwQk",
        "ekTOehxHwwQu",
        "XrvSuzkKwwQz",
        "7mKcl3fkwwQ6",
        "fcYXKTJe-bjt"
      ],
      "toc_visible": true,
      "include_colab_link": true
    },
    "kernelspec": {
      "name": "python3",
      "display_name": "Python 3"
    }
  },
  "cells": [
    {
      "cell_type": "markdown",
      "metadata": {
        "id": "view-in-github",
        "colab_type": "text"
      },
      "source": [
        "<a href=\"https://colab.research.google.com/github/jirvingphd/MyMatlabEphysAnalysis/blob/master/MOST_RECENT_From_JMI_to_MM_04_01_19_ttest%2BNotes.ipynb\" target=\"_parent\"><img src=\"https://colab.research.google.com/assets/colab-badge.svg\" alt=\"Open In Colab\"/></a>"
      ]
    },
    {
      "metadata": {
        "colab_type": "text",
        "id": "3yoyuAnnwwP4"
      },
      "cell_type": "markdown",
      "source": [
        ""
      ]
    },
    {
      "metadata": {
        "id": "zlI2ClzCSrF-",
        "colab_type": "text"
      },
      "cell_type": "markdown",
      "source": [
        "# HEY MIKE (04/01 7:45 pm): \n",
        "Check out the [section at the bottom where i typed out the workflow](https://colab.research.google.com/drive/1x4F3XmkyYv638A8t3_cYyHc__12lANb8#scrollTo=ARClmsCLLoNf&line=16&uniqifier=1)"
      ]
    },
    {
      "metadata": {
        "id": "YHQsiTkTSp5C",
        "colab_type": "code",
        "colab": {}
      },
      "cell_type": "code",
      "source": [
        "check above\n"
      ],
      "execution_count": 0,
      "outputs": []
    },
    {
      "metadata": {
        "colab_type": "text",
        "id": "EZeLgicvwwP6"
      },
      "cell_type": "markdown",
      "source": [
        "# Module 2 Final Project Specifications: Introduction"
      ]
    },
    {
      "metadata": {
        "colab_type": "text",
        "id": "gklyzeSFwwP9"
      },
      "cell_type": "markdown",
      "source": [
        "In this lesson, we'll review all the guidelines and specifications for the final project for Module 2. \n",
        "\n",
        "### Objectives\n",
        "\n",
        "* Understand all required aspects of the Final Project for Module 2\n",
        "* Understand all required deliverables\n",
        "* Understand what constitutes a successful project\n",
        "\n",
        "### Final Project Summary\n",
        "\n",
        "Another module down--you're half way there!\n",
        "\n",
        "< img src='halfway-there.gif'>\n",
        "\n",
        "For the culmination of Module 2, you just need to complete the final project!\n",
        "\n",
        "### The Project\n",
        "\n",
        "For this project, you'll be working with the Northwind database--a free, open-source dataset created by Microsoft containing data from a fictional company. You probably remember the Northwind database from our section on Advanced SQL. Here's the schema for the Northwind database:\n",
        "\n",
        "<img src='https://github.com/jirvingphd/dsc-2-final-project-online-ds-ft-021119/blob/master/Northwind_ERD.png?raw=1' width=400>"
      ]
    },
    {
      "metadata": {
        "colab_type": "text",
        "id": "pgOCAkAHwwP-"
      },
      "cell_type": "markdown",
      "source": [
        "## The Deliverables\n",
        "> **The goal of this project** is to test your ability to gather information from a real-world database and use your knowledge of statistical analysis and hypothesis testing to generate analytical insights that can be of value to the company.\n"
      ]
    },
    {
      "metadata": {
        "colab_type": "text",
        "id": "A4eo2x98wwQA"
      },
      "cell_type": "markdown",
      "source": [
        "In addition to answering this question with a hypothesis test, you will also need to come up with **_at least 3 other hypotheses to test on your own_**.  \n",
        "\n",
        "These can by **anything that you think could be imporant information _for the company_.** \n",
        "\n",
        "For this hypothesis, be sure to specify both the **_null hypothesis_** and the **_alternative hypothesis_** for your question.  You should also specify if this is one-tail or a two-tail test. \n",
        "\n",
        "To complete this project, you will need to turn in the following 3 deliverables:\n",
        "\n",
        "1. A **_Jupyter Notebook_** containing any code you've written for this project. \n",
        "2. A **_Blog Post_** explaining your process, methodology, and findings.  \n",
        "3. An **_\"Executive Summary\" PowerPoint Presentation_** that explains the hypothesis tests you ran, your findings, and their relevance to company stakeholders.  "
      ]
    },
    {
      "metadata": {
        "colab_type": "text",
        "id": "-F7VwA6BwwQB"
      },
      "cell_type": "markdown",
      "source": [
        "### Jupyter Notebook Must-Haves\n",
        "\n",
        "For this project, your jupyter notebook should meet the following specifications:\n",
        "\n",
        "**_Organization/Code Cleanliness_**\n",
        "\n",
        "* The notebook should be well organized, easy to follow, and code is commented where appropriate.  \n",
        "<br>  \n",
        "    * Level Up: The notebook contains well-formatted, professional looking markdown cells explaining any substantial code. All functions have docstrings that act as professional-quality documentation.  \n",
        "<br>      \n",
        "* The notebook is written to technical audiences with a way to both understand your approach and reproduce your results. The target audience for this deliverable is other data scientists looking to validate your findings.  \n",
        "<br>    \n",
        "* Any SQL code written to source data should also be included.  \n",
        "\n",
        "**_Findings_**\n",
        "\n",
        "* Your notebook should clearly show how you arrived at your results for each hypothesis test, including how you calculated your p-values.   \n",
        "<br>\n",
        "* You should also include any other statistics that you find relevant to your analysis, such as effect size. "
      ]
    },
    {
      "metadata": {
        "colab_type": "text",
        "id": "PXe-ZIk3wwQC"
      },
      "cell_type": "markdown",
      "source": [
        "### Executive Summary Must-Haves\n",
        "\n",
        "Your presentation should:\n",
        "\n",
        "* Contain between 5-10 professional quality slides detailing:\n",
        "<br>  \n",
        "    * A high-level overview of your methodology  \n",
        "    <br>  \n",
        "    * The results of your hypothesis tests  \n",
        "    <br>  \n",
        "    * Any real-world recommendations you would like to make based on your findings (ask yourself--why should the executive team care about what you found? How can your findings help the company?)  \n",
        "    <br>  \n",
        "* Take no more than 5 minutes to present  \n",
        "<br>  \n",
        "* Avoid technical jargon and explain results in a clear, actionable way for non-technical audiences.  "
      ]
    },
    {
      "metadata": {
        "colab_type": "text",
        "id": "z6jWCSDawwQD"
      },
      "cell_type": "markdown",
      "source": [
        "### Blog Post Must-Haves\n",
        "\n",
        "Your blog post should include everything from how you identified what tables contained the information you need, to how you retrieved it using SQL (and any challenges you ran into while doing so), as well as your methodology and results for your hypothesis tests. \n",
        "\n",
        "**_NOTE:_**  This blog post is your way of showcasing the work you've done on this project--chances are it will soon be read by a recruiter or hiring manager! Take the time to make sure that you craft your story well, and clearly explain your process and findings in a way that clearly shows both your technical expertise **_and_** your ability to communicate your results!\n",
        "___"
      ]
    },
    {
      "metadata": {
        "colab_type": "text",
        "id": "RXO-WQHYwwQF"
      },
      "cell_type": "markdown",
      "source": [
        "___"
      ]
    },
    {
      "metadata": {
        "colab_type": "text",
        "id": "hLrUyfOEwwQG"
      },
      "cell_type": "markdown",
      "source": [
        "# Outline of Data Processing and Analysis<br> (using OSEMN model)"
      ]
    },
    {
      "metadata": {
        "colab_type": "text",
        "id": "Q70itr8BwwQH"
      },
      "cell_type": "markdown",
      "source": [
        "1. **OBTAIN:**\n",
        "    - **Import data, inspect, check for datatypes to convert and null values**<br>\n",
        "        - Display header and info\n",
        "        - Drop any unneeded columns (df.drop(['col1','col2'],axis=1)\n",
        "\n",
        "2. **SCRUB: cast data types, identify outliers, check for multicollinearity, normalize data**<br>\n",
        "    - Check and cast data types\n",
        "        - [ ] Check for #'s that are store as objects (df.info())\n",
        "            - when converting to #'s, look for odd values (like many 0's), or strings that can't be converted\n",
        "            - Decide how to deal weird/null values (df.unique(), df.isna().sum(), df.describe()-min/max, etc\n",
        "        - [ ]  Check for categorical variables stored as integers\n",
        "    - [ ] Check for missing values  (df.isna().sum())\n",
        "        - Can drop rows or colums\n",
        "        - For missing numeric data with median or bin/convert to categorical\n",
        "        - For missing categorical data: make NaN own category OR replace with most common category\n",
        "    - [ ] Check for multicollinearity\n",
        "         - use seaborn to make correlation matrix plot [Evernote Link](https://www.evernote.com/l/AArNyaEwjA5JUL6I9PazHs_ts_hU-m7ja1I/) \n",
        "        - Good rule of thumb is anything over 0.75 corr is high, remove the variable that has the most correl with the largest # of variables\n",
        "    - [ ] Normalize data (may want to do after some exploring)\n",
        "        - Most popular is Z-scoring (but won't fix skew) \n",
        "        - Can log-transform to fix skewed data\n",
        "    \n",
        "            \n",
        "3. **EXPLORE:Check distributions, outliers, etc**\n",
        "    - [ ] Check scales, ranges (df.describe())\n",
        "    - [ ] Check histograms to get an idea of distributions (df.hist()) and dat transformations to perform\n",
        "        - Can also do kernel density estimates\n",
        "    - [ ] Use scatterplots to check for linearity and possible categorical variables (df.plot(kind-'scatter')\n",
        "        - categoricals will look like vertical lines\n",
        "    - [ ] Use pd.plotting.scatter_matrix to visualize possible relationships\n",
        "    - [ ] Check for linearity\n",
        "\n",
        "   \n",
        "4. **FIT AN INITIAL MODEL:** \n",
        "    - Various forms, detail later...\n",
        "    - **Assessing the model:**\n",
        "        - Assess parameters (slope,intercept)\n",
        "        - Check if the model explains the variation in the data (RMSE, F, R_square)\n",
        "        - *Are the coeffs, slopes, intercepts in appropriate units?*\n",
        "        - *Whats the impact of collinearity? Can we ignore?*\n",
        "5. **Revise the fitted model**\n",
        "    - Multicollinearity is big issue for lin regression and cannot fully remove it\n",
        "    - Use the predictive ability of model to test it (like R2 and RMSE)\n",
        "    - Check for missed non-linearity\n",
        "6. **Holdout validation / Train/test split**\n",
        "    - use sklearn train_test_split \n",
        "___"
      ]
    },
    {
      "metadata": {
        "colab_type": "text",
        "id": "7i8Ev_kKwwQJ"
      },
      "cell_type": "markdown",
      "source": [
        ""
      ]
    },
    {
      "metadata": {
        "colab_type": "text",
        "id": "ubtNFAFewwQK"
      },
      "cell_type": "markdown",
      "source": [
        "# EXPERIMENTAL DESIGN PLANNING"
      ]
    },
    {
      "metadata": {
        "colab_type": "text",
        "id": "7rzJx4u8wwQL"
      },
      "cell_type": "markdown",
      "source": [
        "## Hypothesis Testing\n",
        "\n",
        "You will need query the database to get the data needed to perform a statistical analysis.  In this statistical analysis, **you'll need to perform a hypothesis test (or perhaps several) to answer the following question:**\n",
        "\n",
        "\n",
        "> **_Do discounts have a statistically significant effect on the number of products customers order? If so, at what level(s) of discount?_**\n",
        "\n",
        "### Hypothesis 1: (Given Hypothesis)\n",
        "\n",
        "- $H_1$: The greater the discount, the greater the quantity of products ordered by individual customers?\n",
        "- $H_0$:  Discounts have no effect on the quantity of product ordered by individual customers.  \n",
        "<br>\n",
        "- **Specific Aims:**\n",
        "\n",
        "    - **Aim 1:To select dataset that allows us to compare our target variable, **quantity _per purchase_**, vs the predictor variable discount.**\n",
        "    \n",
        "       - [ ] SELECT OrderID, QUantity,Discount FROM OrderDetails\n",
        "        - GROUPBY discount\n",
        "        - id = OrderId\\\n",
        "        \n",
        "    - **Aim 2: To test the relationship using a[ ]-tailed t-test.**\n",
        "        - One or two tailed?\n",
        "            - __ tailed, because...\n",
        "    - **Aim 3: To determine which level of discounts affect quantity?**\n",
        "    \n",
        " \n",
        "<br>\n",
        "\n",
        "### Hypothesis 2:\n",
        "\n",
        "- $H_1$: Customers buy more of other store items when they are buying discounted items.\n",
        "- $H_0$: Customers buy the same ***amount*** of items\n",
        "    - **amount could mean:**\n",
        "        - the # of items (discounted vs not discounted vs same level of discount?)\n",
        "        - total price per order with/without discounted products\n",
        "<br>\n",
        "- **Specific Aims:**\n",
        "\n",
        "    - Aim 1:To select dataset that allows us to compare our target variable [    ] vs the predictor variable [      ].\n",
        "    - Aim 2: To test the relationship using a [ ] -tailed t-test. \n",
        "    - Aim 3: To determine which levels of the predictor underly the effect.\n",
        "\n",
        "### Hypothesis 3:\n",
        "\n",
        "- $H_1$: \n",
        "- $H_0$:   \n",
        "<br>\n",
        "- **Specific Aims:**\n",
        "\n",
        "    - Aim 1:To select dataset that allows us to compare our target variable [    ] vs the predictor variable [      ].\n",
        "    - Aim 2: To test the relationship using a [ ] -tailed t-test. \n",
        "    - Aim 3: To determine which levels of the predictor underly the effect.\n",
        "    \n",
        "### Hypothesis 4:\n",
        "- $H_1$: \n",
        "- $H_0$:   \n",
        "<br>\n",
        "- **Specific Aims:**\n",
        "\n",
        "    - Aim 1:To select dataset that allows us to compare our target variable [    ] vs the predictor variable [      ].\n",
        "    - Aim 2: To test the relationship using a [ ] -tailed t-test. \n",
        "    - Aim 3: To determine which levels of the predictor underly the effect."
      ]
    },
    {
      "metadata": {
        "colab_type": "text",
        "id": "Oz3uzog5wwQM"
      },
      "cell_type": "markdown",
      "source": [
        "# INITIALIZATION AND DECLARATION OF FUNCTIONS"
      ]
    },
    {
      "metadata": {
        "colab_type": "text",
        "id": "PVjqeNPowwQN"
      },
      "cell_type": "markdown",
      "source": [
        "## Import packages:"
      ]
    },
    {
      "metadata": {
        "colab_type": "code",
        "id": "vl-HKeJJwwQP",
        "colab": {
          "base_uri": "https://localhost:8080/",
          "height": 72
        },
        "outputId": "ff1b1163-16a4-4796-c870-7264e5eb3a7f"
      },
      "cell_type": "code",
      "source": [
        "# Normal packages\n",
        "import pandas as pd\n",
        "import numpy as np\n",
        "import seaborn as sns\n",
        "import matplotlib.pyplot as plt\n",
        "import matplotlib.ticker as mtick\n",
        "%matplotlib inline\n",
        "\n",
        "# Statsmodels\n",
        "\n",
        "import statsmodels.api as sm\n",
        "import statsmodels.formula.api as smf\n",
        "import statsmodels.stats.api as sms\n",
        "\n",
        "import scipy.stats as stats\n",
        "\n",
        "\n",
        "# Counter\n",
        "from collections import Counter\n",
        "\n",
        "# Sklearn\n",
        "from sklearn.model_selection import train_test_split\n",
        "from sklearn.feature_selection import RFE\n",
        "from sklearn.linear_model import LinearRegression\n",
        "from sklearn.metrics import mean_squared_error\n",
        "from sklearn.preprocessing import MinMaxScaler\n",
        "from sklearn.preprocessing import RobustScaler\n",
        "import sklearn.metrics as metrics\n",
        "\n",
        "\n",
        "import sqlalchemy\n",
        "from sqlalchemy import create_engine\n",
        "from sqlalchemy.orm import Session, sessionmaker\n",
        "from sqlalchemy import inspect"
      ],
      "execution_count": 1,
      "outputs": [
        {
          "output_type": "stream",
          "text": [
            "/usr/local/lib/python3.6/dist-packages/statsmodels/compat/pandas.py:56: FutureWarning: The pandas.core.datetools module is deprecated and will be removed in a future version. Please use the pandas.tseries module instead.\n",
            "  from pandas.core import datetools\n"
          ],
          "name": "stderr"
        }
      ]
    },
    {
      "metadata": {
        "colab_type": "text",
        "id": "s6AsUbfMwwQU"
      },
      "cell_type": "markdown",
      "source": [
        "## Define Functions (from proj 1)"
      ]
    },
    {
      "metadata": {
        "colab_type": "text",
        "id": "O0xNoo6vwwQV"
      },
      "cell_type": "markdown",
      "source": [
        "### def check_column"
      ]
    },
    {
      "metadata": {
        "colab_type": "code",
        "id": "UEz2Osm_wwQW",
        "colab": {}
      },
      "cell_type": "code",
      "source": [
        "# Check columns returns the datatype, null values and unique values of input series \n",
        "def check_column(series,nlargest='all'):\n",
        "    print(f\"Column: df['{series.name}']':\")\n",
        "    print(f\"dtype: {series.dtype}\")\n",
        "    print(f\"isna: {series.isna().sum()} out of {len(series)} - {round(series.isna().sum()/len(series)*100,3)}%\")\n",
        "        \n",
        "    print(f'\\nUnique non-na values:') #,df['waterfront'].unique())\n",
        "    if nlargest =='all':\n",
        "        print(series.value_counts())\n",
        "    else:\n",
        "        print(series.value_counts().nlargest(nlargest))"
      ],
      "execution_count": 0,
      "outputs": []
    },
    {
      "metadata": {
        "colab_type": "text",
        "id": "GtI-okJkwwQa"
      },
      "cell_type": "markdown",
      "source": [
        "### def multiplot"
      ]
    },
    {
      "metadata": {
        "colab_type": "code",
        "id": "i7lFBscHwwQb",
        "colab": {}
      },
      "cell_type": "code",
      "source": [
        "# MULTIPLOT\n",
        "from string import ascii_letters\n",
        "import numpy as np\n",
        "import pandas as pd\n",
        "import seaborn as sns\n",
        "import matplotlib.pyplot as plt\n",
        "\n",
        "\n",
        "def multiplot(df):\n",
        "\n",
        "    sns.set(style=\"white\")\n",
        "\n",
        "    # Compute the correlation matrix\n",
        "    corr = df.corr()\n",
        "\n",
        "    # Generate a mask for the upper triangle\n",
        "    mask = np.zeros_like(corr, dtype=np.bool)\n",
        "    mask[np.triu_indices_from(mask)] = True\n",
        "\n",
        "    # Set up the matplotlib figure\n",
        "    f, ax = plt.subplots(figsize=(16, 16))\n",
        "\n",
        "    # Generate a custom diverging colormap\n",
        "    cmap = sns.diverging_palette(220, 10, as_cmap=True)\n",
        "\n",
        "    # Draw the heatmap with the mask and correct aspect ratio\n",
        "    sns.heatmap(corr, mask=mask, annot=True, cmap=cmap, center=0,\n",
        "                \n",
        "    square=True, linewidths=.5, cbar_kws={\"shrink\": .5}) #"
      ],
      "execution_count": 0,
      "outputs": []
    },
    {
      "metadata": {
        "colab_type": "text",
        "id": "Qk9N1jMywwQf"
      },
      "cell_type": "markdown",
      "source": [
        "### def detect_outliers"
      ]
    },
    {
      "metadata": {
        "colab_type": "code",
        "id": "LzpDuDd5wwQg",
        "colab": {}
      },
      "cell_type": "code",
      "source": [
        "# Tukey's method using IQR to eliminate \n",
        "def detect_outliers(df,n,features):\n",
        "    outlier_indices = []\n",
        "    # iterate over features(columns)\n",
        "    for col in features:\n",
        "        # 1st quartile (25%)\n",
        "        Q1 = np.percentile(df[col], 25)\n",
        "        # 3rd quartile (75%)\n",
        "        Q3 = np.percentile(df[col],75)\n",
        "        # Interquartile range (IQR)\n",
        "        IQR = Q3 - Q1\n",
        "        # outlier step\n",
        "        outlier_step = 1.5 * IQR\n",
        "        # Determine a list of indices of outliers for feature col\n",
        "        outlier_list_col = df[(df[col] < Q1 - outlier_step) | (df[col] > Q3 + outlier_step )].index\n",
        "        # append the found outlier indices for col to the list of outlier indices \n",
        "        outlier_indices.extend(outlier_list_col)\n",
        "        # select observations containing more than 2 outliers\n",
        "        outlier_indices = Counter(outlier_indices)        \n",
        "        multiple_outliers = list( k for k, v in outlier_indices.items() if v > n )\n",
        "        return multiple_outliers \n",
        "# Outliers_to_drop = detect_outliers(data,2,[\"col1\",\"col2\"])\n",
        "# df.loc[Outliers_to_drop] # Show the outliers rows\n",
        "# Drop outliers\n",
        "# data= data.drop(Outliers_to_drop, axis = 0).reset_index(drop=True)"
      ],
      "execution_count": 0,
      "outputs": []
    },
    {
      "metadata": {
        "colab_type": "text",
        "id": "GDzeDK5gwwQk"
      },
      "cell_type": "markdown",
      "source": [
        "### def plot_hist_scat_sns"
      ]
    },
    {
      "metadata": {
        "colab_type": "code",
        "id": "MITbzaCcwwQl",
        "colab": {}
      },
      "cell_type": "code",
      "source": [
        "#SEABORN\n",
        "import matplotlib.ticker as mtick\n",
        "import matplotlib.pyplot as plt\n",
        "\n",
        "# Plots histogram and scatter (vs price) side by side\n",
        "def plot_hist_scat_sns(df,target='price'):\n",
        "    plt.style.use('dark_background')\n",
        "\n",
        "    figsize=(10,6)\n",
        "    \n",
        "    ## ----------- DEFINE AESTHETIC CUSTOMIZATIONS ----------- ##\n",
        "    # Axis Label fonts\n",
        "    fontTitle = {'fontsize': 12,\n",
        "               'fontweight': 'bold',\n",
        "                'fontfamily':'serif'}\n",
        "\n",
        "    fontAxis = {'fontsize': 10,\n",
        "               'fontweight': 'bold',\n",
        "                'fontfamily':'serif'}\n",
        "\n",
        "    fontTicks = {'fontsize': 8,\n",
        "               'fontweight':'bold',\n",
        "                'fontfamily':'serif'}\n",
        "\n",
        "    # Formatting dollar sign labels\n",
        "    fmtPrice = '${x:,.0f}'\n",
        "    tickPrice = mtick.StrMethodFormatter(fmtPrice)\n",
        "    \n",
        "\n",
        "    ## ----------- PLOTTING ----------- ##\n",
        "    \n",
        "    ## Loop through dataframe to plot\n",
        "    for column in df.describe():\n",
        "    \n",
        "        # Create figure with subplots for current column\n",
        "        # Note: in order to use identical syntax for large # of subplots (ax[i,j]), \n",
        "        #  declare an extra row of subplots to be removed later\n",
        "        fig, ax = plt.subplots(figsize=figsize, ncols=2, nrows=2)\n",
        "\n",
        "        \n",
        "        \n",
        "        ## ----- SUBPLOT 1 -----##\n",
        "        i,j = 0,0\n",
        "        ax[i,j].set_title(column.capitalize(),fontdict=fontTitle)\n",
        "        \n",
        "        # Define graphing keyword dictionaries for distplot (Subplot 1)\n",
        "        hist_kws = {\"linewidth\": 1, \"alpha\": 1, \"color\": 'blue','edgecolor':'w'}\n",
        "        kde_kws = {\"color\": \"white\", \"linewidth\": 1, \"label\": \"KDE\"}\n",
        "        \n",
        "        # Plot distplot on ax[i,j] using hist_kws and kde_kws\n",
        "        sns.distplot(df[column], norm_hist=True, kde=True,\n",
        "                     hist_kws = hist_kws, kde_kws = kde_kws,\n",
        "                     label=column+' histogram', ax=ax[i,j])\n",
        " \n",
        "\n",
        "        # Set x axis label\n",
        "        ax[i,j].set_xlabel(column.title(),fontdict=fontAxis)\n",
        "    \n",
        "        # Get x-ticks, rotate labels, and return\n",
        "        xticklab1 = ax[i,j].get_xticklabels(which = 'both')\n",
        "        ax[i,j].set_xticklabels(labels=xticklab1, fontdict=fontTicks, rotation=45)\n",
        "        ax[i,j].xaxis.set_major_formatter(mtick.ScalarFormatter())\n",
        "\n",
        "        \n",
        "        # Set y-label \n",
        "        ax[i,j].set_ylabel('Density',fontdict=fontAxis)\n",
        "        yticklab1=ax[i,j].get_yticklabels(which='both')\n",
        "        ax[i,j].set_yticklabels(labels=yticklab1,fontdict=fontTicks)\n",
        "        ax[i,j].yaxis.set_major_formatter(mtick.ScalarFormatter())\n",
        "        \n",
        "        \n",
        "        # Set y-grid\n",
        "        ax[i, j].set_axisbelow(True)\n",
        "        ax[i, j].grid(axis='y',ls='--')\n",
        "\n",
        "\n",
        "        \n",
        "        \n",
        "        ## ----- SUBPLOT 2-----  ##\n",
        "        i,j = 0,1\n",
        "        ax[i,j].set_title(column.capitalize(),fontdict=fontTitle)\n",
        "\n",
        "        # Define the ketword dictionaries for  scatter plot and regression line (subplot 2)\n",
        "        line_kws={\"color\":\"white\",\"alpha\":0.5,\"lw\":4,\"ls\":\":\"}\n",
        "        scatter_kws={'s': 2, 'alpha': 0.5,'marker':'.','color':'blue'}\n",
        "\n",
        "        # Plot regplot on ax[i,j] using line_kws and scatter_kws\n",
        "        sns.regplot(df[column], df[target], \n",
        "                    line_kws = line_kws,\n",
        "                    scatter_kws = scatter_kws,\n",
        "                    ax=ax[i,j])\n",
        "        \n",
        "        # Set x-axis label\n",
        "        ax[i,j].set_xlabel(column.title(),fontdict=fontAxis)\n",
        "\n",
        "         # Get x ticks, rotate labels, and return\n",
        "        xticklab2=ax[i,j].get_xticklabels(which='both')\n",
        "        ax[i,j].set_xticklabels(labels=xticklab2,fontdict=fontTicks, rotation=45)\n",
        "        ax[i,j].xaxis.set_major_formatter(mtick.ScalarFormatter())\n",
        "\n",
        "        # Set  y-axis label\n",
        "        ax[i,j].set_ylabel(target,fontdict=fontAxis)\n",
        "        \n",
        "        # Get, set, and format y-axis Price labels\n",
        "        yticklab = ax[i,j].get_yticklabels()\n",
        "        ax[i,j].set_yticklabels(yticklab,fontdict=fontTicks)\n",
        "        ax[i,j].yaxis.set_major_formatter(mtick.ScalarFormatter())\n",
        "\n",
        "#         ax[i,j].get_yaxis().set_major_formatter(tickPrice) \n",
        "\n",
        "        # Set y-grid\n",
        "        ax[i, j].set_axisbelow(True)\n",
        "        ax[i, j].grid(axis='y',ls='--')       \n",
        "        \n",
        "        ## ---------- Final layout adjustments ----------- ##\n",
        "        # Deleted unused subplots \n",
        "        fig.delaxes(ax[1,1])\n",
        "        fig.delaxes(ax[1,0])\n",
        "\n",
        "        # Optimizing spatial layout\n",
        "        fig.tight_layout()\n",
        "        figtitle=column+'_dist_regr_plots.png'\n",
        "        plt.savefig(figtitle)\n",
        "    return "
      ],
      "execution_count": 0,
      "outputs": []
    },
    {
      "metadata": {
        "colab_type": "text",
        "id": "BVwy49ADwwQn"
      },
      "cell_type": "markdown",
      "source": [
        "## Defining Functions (Proj 2 specific)"
      ]
    },
    {
      "metadata": {
        "colab_type": "text",
        "id": "nkPB_HcdwwQo"
      },
      "cell_type": "markdown",
      "source": [
        "### def list2df"
      ]
    },
    {
      "metadata": {
        "colab_type": "code",
        "id": "TwdV-j85wwQp",
        "colab": {}
      },
      "cell_type": "code",
      "source": [
        "def list2df(list):#, sort_values='index'):\n",
        "    \"\"\" Take in a list where row[0] = column_names and outputs a dataframe.\n",
        "    \n",
        "    Keyword arguments:\n",
        "    set_index -- df.set_index(set_index)\n",
        "    sortby -- df.sorted()\n",
        "    \"\"\"    \n",
        "    \n",
        "    df_list = pd.DataFrame(list[1:],columns=list[0])\n",
        "#     df_list = df_list[1:]\n",
        "\n",
        "    return df_list"
      ],
      "execution_count": 0,
      "outputs": []
    },
    {
      "metadata": {
        "colab_type": "text",
        "id": "ekTOehxHwwQu"
      },
      "cell_type": "markdown",
      "source": [
        "### def get_col_info"
      ]
    },
    {
      "metadata": {
        "colab_type": "code",
        "id": "LOaNcafFwwQv",
        "colab": {}
      },
      "cell_type": "code",
      "source": [
        "def  get_col_info(col_name):\n",
        "    \n",
        "    col_list = inspector.get_columns(col_name)\n",
        "    \n",
        "    column_info = [['table','column','dtype']]\n",
        "    print(f'Table Name: {col_name}\\n')\n",
        "\n",
        "    for col in col_list:\n",
        "        column_info.append([str(col_name),col['name'], col['type']])\n",
        "        \n",
        "    df = list2df(column_info)\n",
        "    return column_info"
      ],
      "execution_count": 0,
      "outputs": []
    },
    {
      "metadata": {
        "colab_type": "text",
        "id": "XrvSuzkKwwQz"
      },
      "cell_type": "markdown",
      "source": [
        "### def get_full_table_info"
      ]
    },
    {
      "metadata": {
        "colab_type": "code",
        "id": "A0bruXiLwwQ0",
        "colab": {}
      },
      "cell_type": "code",
      "source": [
        "def  get_full_table_info(engine):\n",
        "    \n",
        "    column_info = [['table','column','dtype']]\n",
        "    \n",
        "    list_tables= engine.table_names()\n",
        "    \n",
        "    for table in list_tables:\n",
        "        \n",
        "        col_list = inspector.get_columns(table)\n",
        "        \n",
        "        for col in col_list:\n",
        "            \n",
        "            column_info.append([str(table),col['name'], col['type'],col['']])\n",
        "            inspector.get_foreign_keys()\n",
        "    \n",
        "    df = list2df(column_info)\n",
        "    return df"
      ],
      "execution_count": 0,
      "outputs": []
    },
    {
      "metadata": {
        "colab_type": "code",
        "id": "Ne6vEM4CwwQ3",
        "colab": {}
      },
      "cell_type": "code",
      "source": [
        "# From Mike\n",
        "def describe_outliers(df):\n",
        "    out_count = 0\n",
        "    new_df = pd.DataFrame(columns=['total_outliers', 'percent_total'])\n",
        "    for col in df.columns:\n",
        "        outies = find_outliers(df[col])\n",
        "        out_count += len(outies) \n",
        "        new_df.loc[col] = [len(outies), round((len(outies)/len(df.index))*100, 2)]\n",
        "    new_df.loc['grand_total'] = [sum(new_df['total_outliers']), sum(new_df['percent_total'])]\n",
        "    return new_df"
      ],
      "execution_count": 0,
      "outputs": []
    },
    {
      "metadata": {
        "colab_type": "text",
        "id": "7mKcl3fkwwQ6"
      },
      "cell_type": "markdown",
      "source": [
        "# IMPORTING DATA"
      ]
    },
    {
      "metadata": {
        "colab_type": "text",
        "id": "jNCeTHeV4W9t"
      },
      "cell_type": "markdown",
      "source": [
        "## **Hey Mike,**\n",
        "We must change up the start of the script in order to get the sqlite file loaded properly.\n",
        "We basically mount google drive and then tell it the filepath.<br> \n",
        "If you open the sidebar on the left, there is  a Files tab.\n"
      ]
    },
    {
      "metadata": {
        "id": "Xhtq20r5iSVw",
        "colab_type": "text"
      },
      "cell_type": "markdown",
      "source": [
        "#### THIS VERSION FO THE CODE WORKED TO GET SQLITE WORKING ON COLAB:\n",
        " ```python\n",
        "from google.colab import drive\n",
        "drive.mount('/content/drive/', force_remount=True) \n",
        "\n",
        "\n",
        "filepath = '/content/drive/My Drive/Colab Notebooks/datasets/Northwind_small.sqlite'\n",
        "#-------------------\n",
        "# Testing minimal version of prior code\n",
        "import sqlite3\n",
        "from sqlalchemy import create_engine, inspect\n",
        "# from sqlalchemy import Table, Column, Integer, String, MetaData, ForeignKey,text, Float\n",
        "\n",
        "engine = create_engine('sqlite:///'+filepath,echo=True)\n",
        "inspector = inspect(engine);\n",
        "db_tables = inspector.get_table_names()\n",
        "print('\\n',db_tables);\n",
        "```"
      ]
    },
    {
      "metadata": {
        "colab_type": "code",
        "id": "N0O4-cWq1N53",
        "outputId": "7dc519da-e56b-4ba4-9c55-030314daee52",
        "cellView": "both",
        "colab": {
          "base_uri": "https://localhost:8080/",
          "height": 125
        }
      },
      "cell_type": "code",
      "source": [
        "# @title\n",
        "#The northwind.sqlite is located in: content/drive/My Drive/Colab Notebooks/datasets/Northwind_small.sqlite\n",
        "from google.colab import drive\n",
        "drive.mount('/content/drive/', force_remount=True) \n",
        "\n",
        "# !ln -s \"gdrive/My Drive/Colab Notebooks/\" # \"/content/Colab Notebooks\" # I tried to make a link to just load folder but it didn't work. \n"
      ],
      "execution_count": 10,
      "outputs": [
        {
          "output_type": "stream",
          "text": [
            "Go to this URL in a browser: https://accounts.google.com/o/oauth2/auth?client_id=947318989803-6bn6qk8qdgf4n4g3pfee6491hc0brc4i.apps.googleusercontent.com&redirect_uri=urn%3Aietf%3Awg%3Aoauth%3A2.0%3Aoob&scope=email%20https%3A%2F%2Fwww.googleapis.com%2Fauth%2Fdocs.test%20https%3A%2F%2Fwww.googleapis.com%2Fauth%2Fdrive%20https%3A%2F%2Fwww.googleapis.com%2Fauth%2Fdrive.photos.readonly%20https%3A%2F%2Fwww.googleapis.com%2Fauth%2Fpeopleapi.readonly&response_type=code\n",
            "\n",
            "Enter your authorization code:\n",
            "··········\n",
            "Mounted at /content/drive/\n"
          ],
          "name": "stdout"
        }
      ]
    },
    {
      "metadata": {
        "colab_type": "code",
        "id": "NGfWlIw45Xs1",
        "outputId": "e92143d2-77ff-470f-870d-055cdd761384",
        "colab": {
          "base_uri": "https://localhost:8080/",
          "height": 178
        }
      },
      "cell_type": "code",
      "source": [
        "\n",
        "filepath = '/content/drive/My Drive/Colab Notebooks/datasets/Northwind_small.sqlite'\n",
        "#-------------------\n",
        "# Testing minimal version of prior code\n",
        "import sqlite3\n",
        "from sqlalchemy import create_engine, inspect\n",
        "# from sqlalchemy import Table, Column, Integer, String, MetaData, ForeignKey,text, Float\n",
        "\n",
        "engine = create_engine('sqlite:///'+filepath,echo=True)\n",
        "inspector = inspect(engine);\n",
        "db_tables = inspector.get_table_names()\n",
        "print('\\n',db_tables);"
      ],
      "execution_count": 11,
      "outputs": [
        {
          "output_type": "stream",
          "text": [
            "2019-04-01 23:11:20,797 INFO sqlalchemy.engine.base.Engine SELECT CAST('test plain returns' AS VARCHAR(60)) AS anon_1\n",
            "2019-04-01 23:11:20,799 INFO sqlalchemy.engine.base.Engine ()\n",
            "2019-04-01 23:11:20,801 INFO sqlalchemy.engine.base.Engine SELECT CAST('test unicode returns' AS VARCHAR(60)) AS anon_1\n",
            "2019-04-01 23:11:20,805 INFO sqlalchemy.engine.base.Engine ()\n",
            "2019-04-01 23:11:20,822 INFO sqlalchemy.engine.base.Engine SELECT name FROM sqlite_master WHERE type='table' ORDER BY name\n",
            "2019-04-01 23:11:20,823 INFO sqlalchemy.engine.base.Engine ()\n",
            "\n",
            " ['Category', 'Customer', 'CustomerCustomerDemo', 'CustomerDemographic', 'Employee', 'EmployeeTerritory', 'Order', 'OrderDetail', 'Product', 'Region', 'Shipper', 'Supplier', 'Territory']\n"
          ],
          "name": "stdout"
        }
      ]
    },
    {
      "metadata": {
        "colab_type": "code",
        "id": "zEqu9PbxwwQ8",
        "colab": {}
      },
      "cell_type": "code",
      "source": [
        "# # Testing minimal version of prior code\n",
        "# import sqlite3\n",
        "# from sqlalchemy import create_engine, inspect\n",
        "# from sqlalchemy import Table, Column, Integer, String, MetaData, ForeignKey,text, Float\n",
        "\n",
        "# engine = create_engine(\"sqlite:///Northwind_small.sqlite\",echo=True)\n",
        "# inspector = inspect(engine);\n",
        "# db_tables = inspector.get_table_names()\n",
        "# print('\\n',db_tables);"
      ],
      "execution_count": 0,
      "outputs": []
    },
    {
      "metadata": {
        "colab_type": "text",
        "id": "Lz_NZXdJ55r8"
      },
      "cell_type": "markdown",
      "source": [
        "### YAY! The Sqlite file is working!\n"
      ]
    },
    {
      "metadata": {
        "colab_type": "text",
        "id": "1BgHrsVywwQ6"
      },
      "cell_type": "markdown",
      "source": [
        "### Importing Method \n",
        "- Use sqlalchemy to create engine to connect to Northwind_small.sqlite.\n",
        "- use pd.read_sql_query('SELECT * FROM OrderDetail',egine) to directly read db into df"
      ]
    },
    {
      "metadata": {
        "colab_type": "code",
        "id": "slE9zwdIwwRF",
        "outputId": "55a34f29-1e84-4622-abf0-23d416123373",
        "colab": {
          "base_uri": "https://localhost:8080/",
          "height": 295
        }
      },
      "cell_type": "code",
      "source": [
        "list2df(get_col_info('OrderDetail'))"
      ],
      "execution_count": 13,
      "outputs": [
        {
          "output_type": "stream",
          "text": [
            "2019-04-01 23:11:20,864 INFO sqlalchemy.engine.base.Engine PRAGMA table_info(\"OrderDetail\")\n",
            "2019-04-01 23:11:20,865 INFO sqlalchemy.engine.base.Engine ()\n",
            "Table Name: OrderDetail\n",
            "\n"
          ],
          "name": "stdout"
        },
        {
          "output_type": "execute_result",
          "data": {
            "text/html": [
              "<div>\n",
              "<style scoped>\n",
              "    .dataframe tbody tr th:only-of-type {\n",
              "        vertical-align: middle;\n",
              "    }\n",
              "\n",
              "    .dataframe tbody tr th {\n",
              "        vertical-align: top;\n",
              "    }\n",
              "\n",
              "    .dataframe thead th {\n",
              "        text-align: right;\n",
              "    }\n",
              "</style>\n",
              "<table border=\"1\" class=\"dataframe\">\n",
              "  <thead>\n",
              "    <tr style=\"text-align: right;\">\n",
              "      <th></th>\n",
              "      <th>table</th>\n",
              "      <th>column</th>\n",
              "      <th>dtype</th>\n",
              "    </tr>\n",
              "  </thead>\n",
              "  <tbody>\n",
              "    <tr>\n",
              "      <th>0</th>\n",
              "      <td>OrderDetail</td>\n",
              "      <td>Id</td>\n",
              "      <td>VARCHAR(8000)</td>\n",
              "    </tr>\n",
              "    <tr>\n",
              "      <th>1</th>\n",
              "      <td>OrderDetail</td>\n",
              "      <td>OrderId</td>\n",
              "      <td>INTEGER</td>\n",
              "    </tr>\n",
              "    <tr>\n",
              "      <th>2</th>\n",
              "      <td>OrderDetail</td>\n",
              "      <td>ProductId</td>\n",
              "      <td>INTEGER</td>\n",
              "    </tr>\n",
              "    <tr>\n",
              "      <th>3</th>\n",
              "      <td>OrderDetail</td>\n",
              "      <td>UnitPrice</td>\n",
              "      <td>DECIMAL</td>\n",
              "    </tr>\n",
              "    <tr>\n",
              "      <th>4</th>\n",
              "      <td>OrderDetail</td>\n",
              "      <td>Quantity</td>\n",
              "      <td>INTEGER</td>\n",
              "    </tr>\n",
              "    <tr>\n",
              "      <th>5</th>\n",
              "      <td>OrderDetail</td>\n",
              "      <td>Discount</td>\n",
              "      <td>FLOAT</td>\n",
              "    </tr>\n",
              "  </tbody>\n",
              "</table>\n",
              "</div>"
            ],
            "text/plain": [
              "         table     column          dtype\n",
              "0  OrderDetail         Id  VARCHAR(8000)\n",
              "1  OrderDetail    OrderId        INTEGER\n",
              "2  OrderDetail  ProductId        INTEGER\n",
              "3  OrderDetail  UnitPrice        DECIMAL\n",
              "4  OrderDetail   Quantity        INTEGER\n",
              "5  OrderDetail   Discount          FLOAT"
            ]
          },
          "metadata": {
            "tags": []
          },
          "execution_count": 13
        }
      ]
    },
    {
      "metadata": {
        "colab_type": "code",
        "id": "grfRrQwj6Ff8",
        "colab": {}
      },
      "cell_type": "code",
      "source": [
        ""
      ],
      "execution_count": 0,
      "outputs": []
    },
    {
      "metadata": {
        "colab_type": "text",
        "id": "fcYXKTJe-bjt"
      },
      "cell_type": "markdown",
      "source": [
        "# Hypothesis 1: discounted vs non-discounted quantites"
      ]
    },
    {
      "metadata": {
        "colab_type": "code",
        "id": "8r91sfLGwwRK",
        "outputId": "5b577e0f-7cf3-4238-8727-03e24abbfc8a",
        "colab": {
          "base_uri": "https://localhost:8080/",
          "height": 230
        }
      },
      "cell_type": "code",
      "source": [
        "# We want to test hypothesis one, so we need OrderDetail table.\n",
        "table_to_test = \"OrderDetail\"\n",
        "df = pd.read_sql_query(\"SELECT * FROM OrderDetail\",  engine)\n",
        "df.head()"
      ],
      "execution_count": 14,
      "outputs": [
        {
          "output_type": "stream",
          "text": [
            "2019-04-01 23:11:20,908 INFO sqlalchemy.engine.base.Engine SELECT * FROM OrderDetail\n",
            "2019-04-01 23:11:20,910 INFO sqlalchemy.engine.base.Engine ()\n"
          ],
          "name": "stdout"
        },
        {
          "output_type": "execute_result",
          "data": {
            "text/html": [
              "<div>\n",
              "<style scoped>\n",
              "    .dataframe tbody tr th:only-of-type {\n",
              "        vertical-align: middle;\n",
              "    }\n",
              "\n",
              "    .dataframe tbody tr th {\n",
              "        vertical-align: top;\n",
              "    }\n",
              "\n",
              "    .dataframe thead th {\n",
              "        text-align: right;\n",
              "    }\n",
              "</style>\n",
              "<table border=\"1\" class=\"dataframe\">\n",
              "  <thead>\n",
              "    <tr style=\"text-align: right;\">\n",
              "      <th></th>\n",
              "      <th>Id</th>\n",
              "      <th>OrderId</th>\n",
              "      <th>ProductId</th>\n",
              "      <th>UnitPrice</th>\n",
              "      <th>Quantity</th>\n",
              "      <th>Discount</th>\n",
              "    </tr>\n",
              "  </thead>\n",
              "  <tbody>\n",
              "    <tr>\n",
              "      <th>0</th>\n",
              "      <td>10248/11</td>\n",
              "      <td>10248</td>\n",
              "      <td>11</td>\n",
              "      <td>14.0</td>\n",
              "      <td>12</td>\n",
              "      <td>0.0</td>\n",
              "    </tr>\n",
              "    <tr>\n",
              "      <th>1</th>\n",
              "      <td>10248/42</td>\n",
              "      <td>10248</td>\n",
              "      <td>42</td>\n",
              "      <td>9.8</td>\n",
              "      <td>10</td>\n",
              "      <td>0.0</td>\n",
              "    </tr>\n",
              "    <tr>\n",
              "      <th>2</th>\n",
              "      <td>10248/72</td>\n",
              "      <td>10248</td>\n",
              "      <td>72</td>\n",
              "      <td>34.8</td>\n",
              "      <td>5</td>\n",
              "      <td>0.0</td>\n",
              "    </tr>\n",
              "    <tr>\n",
              "      <th>3</th>\n",
              "      <td>10249/14</td>\n",
              "      <td>10249</td>\n",
              "      <td>14</td>\n",
              "      <td>18.6</td>\n",
              "      <td>9</td>\n",
              "      <td>0.0</td>\n",
              "    </tr>\n",
              "    <tr>\n",
              "      <th>4</th>\n",
              "      <td>10249/51</td>\n",
              "      <td>10249</td>\n",
              "      <td>51</td>\n",
              "      <td>42.4</td>\n",
              "      <td>40</td>\n",
              "      <td>0.0</td>\n",
              "    </tr>\n",
              "  </tbody>\n",
              "</table>\n",
              "</div>"
            ],
            "text/plain": [
              "         Id  OrderId  ProductId  UnitPrice  Quantity  Discount\n",
              "0  10248/11    10248         11       14.0        12       0.0\n",
              "1  10248/42    10248         42        9.8        10       0.0\n",
              "2  10248/72    10248         72       34.8         5       0.0\n",
              "3  10249/14    10249         14       18.6         9       0.0\n",
              "4  10249/51    10249         51       42.4        40       0.0"
            ]
          },
          "metadata": {
            "tags": []
          },
          "execution_count": 14
        }
      ]
    },
    {
      "metadata": {
        "colab_type": "code",
        "id": "bHdkczoawwRO",
        "scrolled": true,
        "outputId": "6d01dc0e-97de-451c-dcda-a53e87446344",
        "colab": {
          "base_uri": "https://localhost:8080/",
          "height": 210
        }
      },
      "cell_type": "code",
      "source": [
        "df.info()"
      ],
      "execution_count": 15,
      "outputs": [
        {
          "output_type": "stream",
          "text": [
            "<class 'pandas.core.frame.DataFrame'>\n",
            "RangeIndex: 2155 entries, 0 to 2154\n",
            "Data columns (total 6 columns):\n",
            "Id           2155 non-null object\n",
            "OrderId      2155 non-null int64\n",
            "ProductId    2155 non-null int64\n",
            "UnitPrice    2155 non-null float64\n",
            "Quantity     2155 non-null int64\n",
            "Discount     2155 non-null float64\n",
            "dtypes: float64(2), int64(3), object(1)\n",
            "memory usage: 101.1+ KB\n"
          ],
          "name": "stdout"
        }
      ]
    },
    {
      "metadata": {
        "colab_type": "code",
        "id": "hOZ_8uy7HuMr",
        "outputId": "2c0c372e-72eb-45d8-f2ba-cbec1928752d",
        "colab": {
          "base_uri": "https://localhost:8080/",
          "height": 34
        }
      },
      "cell_type": "code",
      "source": [
        "sorted(df['Discount'].unique())"
      ],
      "execution_count": 16,
      "outputs": [
        {
          "output_type": "execute_result",
          "data": {
            "text/plain": [
              "[0.0, 0.01, 0.02, 0.03, 0.04, 0.05, 0.06, 0.1, 0.15, 0.2, 0.25]"
            ]
          },
          "metadata": {
            "tags": []
          },
          "execution_count": 16
        }
      ]
    },
    {
      "metadata": {
        "colab_type": "text",
        "id": "u1V-i0y6wwTB",
        "scrolled": true
      },
      "cell_type": "markdown",
      "source": [
        "### Note on OrderDetails df:\n",
        "1. There are 11 possible values for discounts: \n",
        "    - Values = [0.0, 0.01, 0.02, 0.03, 0.04, 0.05, 0.06, 0.1, 0.15, 0.2, 0.25]<br>\n",
        "    ``` print(sorted(df['Discount'].unique())) ```\n",
        "2. Too many columns to see.\n",
        "    - Can I stack/unstack to see better?\n",
        "    \n",
        "### Now how to proceed?\n",
        "1. Check what I need to run a t-test in python. \n",
        "    - [ ] Once review, use info to determine next steps."
      ]
    },
    {
      "metadata": {
        "colab_type": "code",
        "id": "S7s99OFmwwRS",
        "outputId": "b28efe7c-8648-4754-feda-147f62e95be7",
        "colab": {
          "base_uri": "https://localhost:8080/",
          "height": 175
        }
      },
      "cell_type": "code",
      "source": [
        "df['Quantity'].describe()"
      ],
      "execution_count": 17,
      "outputs": [
        {
          "output_type": "execute_result",
          "data": {
            "text/plain": [
              "count    2155.000000\n",
              "mean       23.812993\n",
              "std        19.022047\n",
              "min         1.000000\n",
              "25%        10.000000\n",
              "50%        20.000000\n",
              "75%        30.000000\n",
              "max       130.000000\n",
              "Name: Quantity, dtype: float64"
            ]
          },
          "metadata": {
            "tags": []
          },
          "execution_count": 17
        }
      ]
    },
    {
      "metadata": {
        "colab_type": "code",
        "id": "Hv1Y1NyQwwRW",
        "outputId": "43956217-68de-4a66-f51f-0e3e4f0fcf7f",
        "colab": {
          "base_uri": "https://localhost:8080/",
          "height": 384
        }
      },
      "cell_type": "code",
      "source": [
        "plt.style.use('default')\n",
        "              \n",
        "fig = plt.figure(num=1, figsize=(3,3))\n",
        "ax = fig.add_axes()\n",
        "sns.distplot(df['Quantity'],ax=ax)"
      ],
      "execution_count": 18,
      "outputs": [
        {
          "output_type": "stream",
          "text": [
            "/usr/local/lib/python3.6/dist-packages/matplotlib/axes/_axes.py:6521: MatplotlibDeprecationWarning: \n",
            "The 'normed' kwarg was deprecated in Matplotlib 2.1 and will be removed in 3.1. Use 'density' instead.\n",
            "  alternative=\"'density'\", removal=\"3.1\")\n"
          ],
          "name": "stderr"
        },
        {
          "output_type": "execute_result",
          "data": {
            "text/plain": [
              "<matplotlib.axes._subplots.AxesSubplot at 0x7fb944429dd8>"
            ]
          },
          "metadata": {
            "tags": []
          },
          "execution_count": 18
        },
        {
          "output_type": "display_data",
          "data": {
            "image/png": "[encoded data removed]",
            "text/plain": [
              "<Figure size 300x300 with 1 Axes>"
            ]
          },
          "metadata": {
            "tags": []
          }
        }
      ]
    },
    {
      "metadata": {
        "colab_type": "code",
        "id": "VX6P3oYJwwRa",
        "outputId": "2506fb7e-a5ac-40c5-d66f-38e0e42aa538",
        "colab": {
          "base_uri": "https://localhost:8080/",
          "height": 1911
        }
      },
      "cell_type": "code",
      "source": [
        "# Examining descriptive stats by discount\n",
        "df.groupby('Discount').describe().stack()"
      ],
      "execution_count": 57,
      "outputs": [
        {
          "output_type": "execute_result",
          "data": {
            "text/html": [
              "<div>\n",
              "<style scoped>\n",
              "    .dataframe tbody tr th:only-of-type {\n",
              "        vertical-align: middle;\n",
              "    }\n",
              "\n",
              "    .dataframe tbody tr th {\n",
              "        vertical-align: top;\n",
              "    }\n",
              "\n",
              "    .dataframe thead th {\n",
              "        text-align: right;\n",
              "    }\n",
              "</style>\n",
              "<table border=\"1\" class=\"dataframe\">\n",
              "  <thead>\n",
              "    <tr style=\"text-align: right;\">\n",
              "      <th></th>\n",
              "      <th></th>\n",
              "      <th>OrderId</th>\n",
              "      <th>ProductId</th>\n",
              "      <th>Quantity</th>\n",
              "      <th>UnitPrice</th>\n",
              "    </tr>\n",
              "    <tr>\n",
              "      <th>Discount</th>\n",
              "      <th></th>\n",
              "      <th></th>\n",
              "      <th></th>\n",
              "      <th></th>\n",
              "      <th></th>\n",
              "    </tr>\n",
              "  </thead>\n",
              "  <tbody>\n",
              "    <tr>\n",
              "      <th rowspan=\"8\" valign=\"top\">0.00</th>\n",
              "      <th>count</th>\n",
              "      <td>1317.000000</td>\n",
              "      <td>1317.000000</td>\n",
              "      <td>1317.000000</td>\n",
              "      <td>1317.000000</td>\n",
              "    </tr>\n",
              "    <tr>\n",
              "      <th>mean</th>\n",
              "      <td>10662.791951</td>\n",
              "      <td>41.396355</td>\n",
              "      <td>21.715262</td>\n",
              "      <td>26.171534</td>\n",
              "    </tr>\n",
              "    <tr>\n",
              "      <th>std</th>\n",
              "      <td>244.835366</td>\n",
              "      <td>22.217410</td>\n",
              "      <td>17.507493</td>\n",
              "      <td>29.717354</td>\n",
              "    </tr>\n",
              "    <tr>\n",
              "      <th>min</th>\n",
              "      <td>10248.000000</td>\n",
              "      <td>1.000000</td>\n",
              "      <td>1.000000</td>\n",
              "      <td>2.000000</td>\n",
              "    </tr>\n",
              "    <tr>\n",
              "      <th>25%</th>\n",
              "      <td>10448.000000</td>\n",
              "      <td>23.000000</td>\n",
              "      <td>10.000000</td>\n",
              "      <td>12.000000</td>\n",
              "    </tr>\n",
              "    <tr>\n",
              "      <th>50%</th>\n",
              "      <td>10671.000000</td>\n",
              "      <td>41.000000</td>\n",
              "      <td>18.000000</td>\n",
              "      <td>18.400000</td>\n",
              "    </tr>\n",
              "    <tr>\n",
              "      <th>75%</th>\n",
              "      <td>10879.000000</td>\n",
              "      <td>60.000000</td>\n",
              "      <td>30.000000</td>\n",
              "      <td>32.800000</td>\n",
              "    </tr>\n",
              "    <tr>\n",
              "      <th>max</th>\n",
              "      <td>11077.000000</td>\n",
              "      <td>77.000000</td>\n",
              "      <td>130.000000</td>\n",
              "      <td>263.500000</td>\n",
              "    </tr>\n",
              "    <tr>\n",
              "      <th rowspan=\"7\" valign=\"top\">0.01</th>\n",
              "      <th>count</th>\n",
              "      <td>1.000000</td>\n",
              "      <td>1.000000</td>\n",
              "      <td>1.000000</td>\n",
              "      <td>1.000000</td>\n",
              "    </tr>\n",
              "    <tr>\n",
              "      <th>mean</th>\n",
              "      <td>11077.000000</td>\n",
              "      <td>73.000000</td>\n",
              "      <td>2.000000</td>\n",
              "      <td>15.000000</td>\n",
              "    </tr>\n",
              "    <tr>\n",
              "      <th>min</th>\n",
              "      <td>11077.000000</td>\n",
              "      <td>73.000000</td>\n",
              "      <td>2.000000</td>\n",
              "      <td>15.000000</td>\n",
              "    </tr>\n",
              "    <tr>\n",
              "      <th>25%</th>\n",
              "      <td>11077.000000</td>\n",
              "      <td>73.000000</td>\n",
              "      <td>2.000000</td>\n",
              "      <td>15.000000</td>\n",
              "    </tr>\n",
              "    <tr>\n",
              "      <th>50%</th>\n",
              "      <td>11077.000000</td>\n",
              "      <td>73.000000</td>\n",
              "      <td>2.000000</td>\n",
              "      <td>15.000000</td>\n",
              "    </tr>\n",
              "    <tr>\n",
              "      <th>75%</th>\n",
              "      <td>11077.000000</td>\n",
              "      <td>73.000000</td>\n",
              "      <td>2.000000</td>\n",
              "      <td>15.000000</td>\n",
              "    </tr>\n",
              "    <tr>\n",
              "      <th>max</th>\n",
              "      <td>11077.000000</td>\n",
              "      <td>73.000000</td>\n",
              "      <td>2.000000</td>\n",
              "      <td>15.000000</td>\n",
              "    </tr>\n",
              "    <tr>\n",
              "      <th rowspan=\"8\" valign=\"top\">0.02</th>\n",
              "      <th>count</th>\n",
              "      <td>2.000000</td>\n",
              "      <td>2.000000</td>\n",
              "      <td>2.000000</td>\n",
              "      <td>2.000000</td>\n",
              "    </tr>\n",
              "    <tr>\n",
              "      <th>mean</th>\n",
              "      <td>11077.000000</td>\n",
              "      <td>26.000000</td>\n",
              "      <td>2.000000</td>\n",
              "      <td>18.500000</td>\n",
              "    </tr>\n",
              "    <tr>\n",
              "      <th>std</th>\n",
              "      <td>0.000000</td>\n",
              "      <td>28.284271</td>\n",
              "      <td>1.414214</td>\n",
              "      <td>9.192388</td>\n",
              "    </tr>\n",
              "    <tr>\n",
              "      <th>min</th>\n",
              "      <td>11077.000000</td>\n",
              "      <td>6.000000</td>\n",
              "      <td>1.000000</td>\n",
              "      <td>12.000000</td>\n",
              "    </tr>\n",
              "    <tr>\n",
              "      <th>25%</th>\n",
              "      <td>11077.000000</td>\n",
              "      <td>16.000000</td>\n",
              "      <td>1.500000</td>\n",
              "      <td>15.250000</td>\n",
              "    </tr>\n",
              "    <tr>\n",
              "      <th>50%</th>\n",
              "      <td>11077.000000</td>\n",
              "      <td>26.000000</td>\n",
              "      <td>2.000000</td>\n",
              "      <td>18.500000</td>\n",
              "    </tr>\n",
              "    <tr>\n",
              "      <th>75%</th>\n",
              "      <td>11077.000000</td>\n",
              "      <td>36.000000</td>\n",
              "      <td>2.500000</td>\n",
              "      <td>21.750000</td>\n",
              "    </tr>\n",
              "    <tr>\n",
              "      <th>max</th>\n",
              "      <td>11077.000000</td>\n",
              "      <td>46.000000</td>\n",
              "      <td>3.000000</td>\n",
              "      <td>25.000000</td>\n",
              "    </tr>\n",
              "    <tr>\n",
              "      <th rowspan=\"7\" valign=\"top\">0.03</th>\n",
              "      <th>count</th>\n",
              "      <td>3.000000</td>\n",
              "      <td>3.000000</td>\n",
              "      <td>3.000000</td>\n",
              "      <td>3.000000</td>\n",
              "    </tr>\n",
              "    <tr>\n",
              "      <th>mean</th>\n",
              "      <td>11077.000000</td>\n",
              "      <td>31.333333</td>\n",
              "      <td>1.666667</td>\n",
              "      <td>24.650000</td>\n",
              "    </tr>\n",
              "    <tr>\n",
              "      <th>std</th>\n",
              "      <td>0.000000</td>\n",
              "      <td>28.307832</td>\n",
              "      <td>0.577350</td>\n",
              "      <td>7.992496</td>\n",
              "    </tr>\n",
              "    <tr>\n",
              "      <th>min</th>\n",
              "      <td>11077.000000</td>\n",
              "      <td>14.000000</td>\n",
              "      <td>1.000000</td>\n",
              "      <td>17.450000</td>\n",
              "    </tr>\n",
              "    <tr>\n",
              "      <th>25%</th>\n",
              "      <td>11077.000000</td>\n",
              "      <td>15.000000</td>\n",
              "      <td>1.500000</td>\n",
              "      <td>20.350000</td>\n",
              "    </tr>\n",
              "    <tr>\n",
              "      <th>50%</th>\n",
              "      <td>11077.000000</td>\n",
              "      <td>16.000000</td>\n",
              "      <td>2.000000</td>\n",
              "      <td>23.250000</td>\n",
              "    </tr>\n",
              "    <tr>\n",
              "      <th>75%</th>\n",
              "      <td>11077.000000</td>\n",
              "      <td>40.000000</td>\n",
              "      <td>2.000000</td>\n",
              "      <td>28.250000</td>\n",
              "    </tr>\n",
              "    <tr>\n",
              "      <th>...</th>\n",
              "      <th>...</th>\n",
              "      <td>...</td>\n",
              "      <td>...</td>\n",
              "      <td>...</td>\n",
              "      <td>...</td>\n",
              "    </tr>\n",
              "    <tr>\n",
              "      <th rowspan=\"6\" valign=\"top\">0.10</th>\n",
              "      <th>std</th>\n",
              "      <td>220.393484</td>\n",
              "      <td>21.766181</td>\n",
              "      <td>21.186503</td>\n",
              "      <td>30.679956</td>\n",
              "    </tr>\n",
              "    <tr>\n",
              "      <th>min</th>\n",
              "      <td>10288.000000</td>\n",
              "      <td>1.000000</td>\n",
              "      <td>2.000000</td>\n",
              "      <td>2.500000</td>\n",
              "    </tr>\n",
              "    <tr>\n",
              "      <th>25%</th>\n",
              "      <td>10420.000000</td>\n",
              "      <td>21.000000</td>\n",
              "      <td>10.000000</td>\n",
              "      <td>10.200000</td>\n",
              "    </tr>\n",
              "    <tr>\n",
              "      <th>50%</th>\n",
              "      <td>10541.000000</td>\n",
              "      <td>41.000000</td>\n",
              "      <td>20.000000</td>\n",
              "      <td>18.000000</td>\n",
              "    </tr>\n",
              "    <tr>\n",
              "      <th>75%</th>\n",
              "      <td>10764.000000</td>\n",
              "      <td>61.000000</td>\n",
              "      <td>30.000000</td>\n",
              "      <td>30.000000</td>\n",
              "    </tr>\n",
              "    <tr>\n",
              "      <th>max</th>\n",
              "      <td>11077.000000</td>\n",
              "      <td>77.000000</td>\n",
              "      <td>130.000000</td>\n",
              "      <td>263.500000</td>\n",
              "    </tr>\n",
              "    <tr>\n",
              "      <th rowspan=\"8\" valign=\"top\">0.15</th>\n",
              "      <th>count</th>\n",
              "      <td>157.000000</td>\n",
              "      <td>157.000000</td>\n",
              "      <td>157.000000</td>\n",
              "      <td>157.000000</td>\n",
              "    </tr>\n",
              "    <tr>\n",
              "      <th>mean</th>\n",
              "      <td>10656.025478</td>\n",
              "      <td>40.452229</td>\n",
              "      <td>28.382166</td>\n",
              "      <td>22.975924</td>\n",
              "    </tr>\n",
              "    <tr>\n",
              "      <th>std</th>\n",
              "      <td>239.767675</td>\n",
              "      <td>22.830885</td>\n",
              "      <td>20.923099</td>\n",
              "      <td>16.066346</td>\n",
              "    </tr>\n",
              "    <tr>\n",
              "      <th>min</th>\n",
              "      <td>10250.000000</td>\n",
              "      <td>1.000000</td>\n",
              "      <td>2.000000</td>\n",
              "      <td>2.500000</td>\n",
              "    </tr>\n",
              "    <tr>\n",
              "      <th>25%</th>\n",
              "      <td>10469.000000</td>\n",
              "      <td>21.000000</td>\n",
              "      <td>15.000000</td>\n",
              "      <td>12.750000</td>\n",
              "    </tr>\n",
              "    <tr>\n",
              "      <th>50%</th>\n",
              "      <td>10633.000000</td>\n",
              "      <td>43.000000</td>\n",
              "      <td>21.000000</td>\n",
              "      <td>18.000000</td>\n",
              "    </tr>\n",
              "    <tr>\n",
              "      <th>75%</th>\n",
              "      <td>10854.000000</td>\n",
              "      <td>59.000000</td>\n",
              "      <td>40.000000</td>\n",
              "      <td>32.000000</td>\n",
              "    </tr>\n",
              "    <tr>\n",
              "      <th>max</th>\n",
              "      <td>11075.000000</td>\n",
              "      <td>77.000000</td>\n",
              "      <td>100.000000</td>\n",
              "      <td>99.000000</td>\n",
              "    </tr>\n",
              "    <tr>\n",
              "      <th rowspan=\"8\" valign=\"top\">0.20</th>\n",
              "      <th>count</th>\n",
              "      <td>161.000000</td>\n",
              "      <td>161.000000</td>\n",
              "      <td>161.000000</td>\n",
              "      <td>161.000000</td>\n",
              "    </tr>\n",
              "    <tr>\n",
              "      <th>mean</th>\n",
              "      <td>10631.708075</td>\n",
              "      <td>40.031056</td>\n",
              "      <td>27.024845</td>\n",
              "      <td>23.526770</td>\n",
              "    </tr>\n",
              "    <tr>\n",
              "      <th>std</th>\n",
              "      <td>231.401724</td>\n",
              "      <td>22.795675</td>\n",
              "      <td>18.832801</td>\n",
              "      <td>25.090160</td>\n",
              "    </tr>\n",
              "    <tr>\n",
              "      <th>min</th>\n",
              "      <td>10258.000000</td>\n",
              "      <td>1.000000</td>\n",
              "      <td>2.000000</td>\n",
              "      <td>2.000000</td>\n",
              "    </tr>\n",
              "    <tr>\n",
              "      <th>25%</th>\n",
              "      <td>10430.000000</td>\n",
              "      <td>21.000000</td>\n",
              "      <td>12.000000</td>\n",
              "      <td>12.500000</td>\n",
              "    </tr>\n",
              "    <tr>\n",
              "      <th>50%</th>\n",
              "      <td>10597.000000</td>\n",
              "      <td>40.000000</td>\n",
              "      <td>21.000000</td>\n",
              "      <td>18.000000</td>\n",
              "    </tr>\n",
              "    <tr>\n",
              "      <th>75%</th>\n",
              "      <td>10796.000000</td>\n",
              "      <td>59.000000</td>\n",
              "      <td>40.000000</td>\n",
              "      <td>27.200000</td>\n",
              "    </tr>\n",
              "    <tr>\n",
              "      <th>max</th>\n",
              "      <td>11077.000000</td>\n",
              "      <td>77.000000</td>\n",
              "      <td>100.000000</td>\n",
              "      <td>210.800000</td>\n",
              "    </tr>\n",
              "    <tr>\n",
              "      <th rowspan=\"8\" valign=\"top\">0.25</th>\n",
              "      <th>count</th>\n",
              "      <td>154.000000</td>\n",
              "      <td>154.000000</td>\n",
              "      <td>154.000000</td>\n",
              "      <td>154.000000</td>\n",
              "    </tr>\n",
              "    <tr>\n",
              "      <th>mean</th>\n",
              "      <td>10706.500000</td>\n",
              "      <td>37.792208</td>\n",
              "      <td>28.240260</td>\n",
              "      <td>28.214416</td>\n",
              "    </tr>\n",
              "    <tr>\n",
              "      <th>std</th>\n",
              "      <td>233.827383</td>\n",
              "      <td>22.343625</td>\n",
              "      <td>20.120570</td>\n",
              "      <td>28.762396</td>\n",
              "    </tr>\n",
              "    <tr>\n",
              "      <th>min</th>\n",
              "      <td>10260.000000</td>\n",
              "      <td>1.000000</td>\n",
              "      <td>2.000000</td>\n",
              "      <td>2.500000</td>\n",
              "    </tr>\n",
              "    <tr>\n",
              "      <th>25%</th>\n",
              "      <td>10500.750000</td>\n",
              "      <td>19.000000</td>\n",
              "      <td>15.000000</td>\n",
              "      <td>12.625000</td>\n",
              "    </tr>\n",
              "    <tr>\n",
              "      <th>50%</th>\n",
              "      <td>10716.500000</td>\n",
              "      <td>35.500000</td>\n",
              "      <td>25.000000</td>\n",
              "      <td>19.000000</td>\n",
              "    </tr>\n",
              "    <tr>\n",
              "      <th>75%</th>\n",
              "      <td>10912.000000</td>\n",
              "      <td>57.750000</td>\n",
              "      <td>36.000000</td>\n",
              "      <td>34.000000</td>\n",
              "    </tr>\n",
              "    <tr>\n",
              "      <th>max</th>\n",
              "      <td>11076.000000</td>\n",
              "      <td>77.000000</td>\n",
              "      <td>120.000000</td>\n",
              "      <td>210.800000</td>\n",
              "    </tr>\n",
              "  </tbody>\n",
              "</table>\n",
              "<p>85 rows × 4 columns</p>\n",
              "</div>"
            ],
            "text/plain": [
              "                     OrderId    ProductId     Quantity    UnitPrice\n",
              "Discount                                                           \n",
              "0.00     count   1317.000000  1317.000000  1317.000000  1317.000000\n",
              "         mean   10662.791951    41.396355    21.715262    26.171534\n",
              "         std      244.835366    22.217410    17.507493    29.717354\n",
              "         min    10248.000000     1.000000     1.000000     2.000000\n",
              "         25%    10448.000000    23.000000    10.000000    12.000000\n",
              "         50%    10671.000000    41.000000    18.000000    18.400000\n",
              "         75%    10879.000000    60.000000    30.000000    32.800000\n",
              "         max    11077.000000    77.000000   130.000000   263.500000\n",
              "0.01     count      1.000000     1.000000     1.000000     1.000000\n",
              "         mean   11077.000000    73.000000     2.000000    15.000000\n",
              "         min    11077.000000    73.000000     2.000000    15.000000\n",
              "         25%    11077.000000    73.000000     2.000000    15.000000\n",
              "         50%    11077.000000    73.000000     2.000000    15.000000\n",
              "         75%    11077.000000    73.000000     2.000000    15.000000\n",
              "         max    11077.000000    73.000000     2.000000    15.000000\n",
              "0.02     count      2.000000     2.000000     2.000000     2.000000\n",
              "         mean   11077.000000    26.000000     2.000000    18.500000\n",
              "         std        0.000000    28.284271     1.414214     9.192388\n",
              "         min    11077.000000     6.000000     1.000000    12.000000\n",
              "         25%    11077.000000    16.000000     1.500000    15.250000\n",
              "         50%    11077.000000    26.000000     2.000000    18.500000\n",
              "         75%    11077.000000    36.000000     2.500000    21.750000\n",
              "         max    11077.000000    46.000000     3.000000    25.000000\n",
              "0.03     count      3.000000     3.000000     3.000000     3.000000\n",
              "         mean   11077.000000    31.333333     1.666667    24.650000\n",
              "         std        0.000000    28.307832     0.577350     7.992496\n",
              "         min    11077.000000    14.000000     1.000000    17.450000\n",
              "         25%    11077.000000    15.000000     1.500000    20.350000\n",
              "         50%    11077.000000    16.000000     2.000000    23.250000\n",
              "         75%    11077.000000    40.000000     2.000000    28.250000\n",
              "...                      ...          ...          ...          ...\n",
              "0.10     std      220.393484    21.766181    21.186503    30.679956\n",
              "         min    10288.000000     1.000000     2.000000     2.500000\n",
              "         25%    10420.000000    21.000000    10.000000    10.200000\n",
              "         50%    10541.000000    41.000000    20.000000    18.000000\n",
              "         75%    10764.000000    61.000000    30.000000    30.000000\n",
              "         max    11077.000000    77.000000   130.000000   263.500000\n",
              "0.15     count    157.000000   157.000000   157.000000   157.000000\n",
              "         mean   10656.025478    40.452229    28.382166    22.975924\n",
              "         std      239.767675    22.830885    20.923099    16.066346\n",
              "         min    10250.000000     1.000000     2.000000     2.500000\n",
              "         25%    10469.000000    21.000000    15.000000    12.750000\n",
              "         50%    10633.000000    43.000000    21.000000    18.000000\n",
              "         75%    10854.000000    59.000000    40.000000    32.000000\n",
              "         max    11075.000000    77.000000   100.000000    99.000000\n",
              "0.20     count    161.000000   161.000000   161.000000   161.000000\n",
              "         mean   10631.708075    40.031056    27.024845    23.526770\n",
              "         std      231.401724    22.795675    18.832801    25.090160\n",
              "         min    10258.000000     1.000000     2.000000     2.000000\n",
              "         25%    10430.000000    21.000000    12.000000    12.500000\n",
              "         50%    10597.000000    40.000000    21.000000    18.000000\n",
              "         75%    10796.000000    59.000000    40.000000    27.200000\n",
              "         max    11077.000000    77.000000   100.000000   210.800000\n",
              "0.25     count    154.000000   154.000000   154.000000   154.000000\n",
              "         mean   10706.500000    37.792208    28.240260    28.214416\n",
              "         std      233.827383    22.343625    20.120570    28.762396\n",
              "         min    10260.000000     1.000000     2.000000     2.500000\n",
              "         25%    10500.750000    19.000000    15.000000    12.625000\n",
              "         50%    10716.500000    35.500000    25.000000    19.000000\n",
              "         75%    10912.000000    57.750000    36.000000    34.000000\n",
              "         max    11076.000000    77.000000   120.000000   210.800000\n",
              "\n",
              "[85 rows x 4 columns]"
            ]
          },
          "metadata": {
            "tags": []
          },
          "execution_count": 57
        }
      ]
    },
    {
      "metadata": {
        "colab_type": "text",
        "id": "xVFJ3FrcwwRe"
      },
      "cell_type": "markdown",
      "source": [
        ""
      ]
    },
    {
      "metadata": {
        "colab_type": "text",
        "id": "Zx9Gwa4bwwRf"
      },
      "cell_type": "markdown",
      "source": [
        ""
      ]
    },
    {
      "metadata": {
        "colab_type": "text",
        "id": "QHAKqLPM96FU"
      },
      "cell_type": "markdown",
      "source": [
        ""
      ]
    },
    {
      "metadata": {
        "colab_type": "text",
        "id": "q-uvY3EMwwRg"
      },
      "cell_type": "markdown",
      "source": [
        "## Processing df into 2 for normalizaiton and ttest\n",
        "1. We were first separating the dataframe into the groups we wanted to test. \n",
        "2. **@NOW**: ADDING IN OUTLIER REMOVAL\n",
        "- separate df into 2 dfs:\n",
        "    - df_disc\n",
        "    - df_no_disc\n",
        "- run each df thought detect_outliers to get outlier index\n",
        "\n",
        "```python\n",
        "outliers_disc = detect_outliers(df_disc,0,['Quantity])\n",
        "outliers_no_disc = detect_outliers(df_no_disc,0,['Quantity])\n",
        "```\n",
        "- To see outliers just do:\n",
        "```python\n",
        "df_disc = df_disc.loc[df['Discount']>0]\n",
        "df_disc.head()\n",
        "```\n",
        "\n",
        "- To drop outliers dO:\n",
        "```python\n",
        "df_disc.loc[outliers_disc]=np.nan\n",
        "df_disc.dropna() #?\n",
        "```"
      ]
    },
    {
      "metadata": {
        "colab_type": "text",
        "id": "vefLX4WswwRg"
      },
      "cell_type": "markdown",
      "source": [
        "#### 1. We were first separating the dataframe into the groups we wanted to test. \n"
      ]
    },
    {
      "metadata": {
        "colab_type": "code",
        "id": "W_tI5InvwwRi",
        "outputId": "573361ab-2d8b-4793-8fc5-d243a4fde69d",
        "colab": {
          "base_uri": "https://localhost:8080/",
          "height": 106
        }
      },
      "cell_type": "code",
      "source": [
        "df_disc = df.loc[df['Discount']>0]\n",
        "df_disc.head(2)"
      ],
      "execution_count": 20,
      "outputs": [
        {
          "output_type": "execute_result",
          "data": {
            "text/html": [
              "<div>\n",
              "<style scoped>\n",
              "    .dataframe tbody tr th:only-of-type {\n",
              "        vertical-align: middle;\n",
              "    }\n",
              "\n",
              "    .dataframe tbody tr th {\n",
              "        vertical-align: top;\n",
              "    }\n",
              "\n",
              "    .dataframe thead th {\n",
              "        text-align: right;\n",
              "    }\n",
              "</style>\n",
              "<table border=\"1\" class=\"dataframe\">\n",
              "  <thead>\n",
              "    <tr style=\"text-align: right;\">\n",
              "      <th></th>\n",
              "      <th>Id</th>\n",
              "      <th>OrderId</th>\n",
              "      <th>ProductId</th>\n",
              "      <th>UnitPrice</th>\n",
              "      <th>Quantity</th>\n",
              "      <th>Discount</th>\n",
              "    </tr>\n",
              "  </thead>\n",
              "  <tbody>\n",
              "    <tr>\n",
              "      <th>6</th>\n",
              "      <td>10250/51</td>\n",
              "      <td>10250</td>\n",
              "      <td>51</td>\n",
              "      <td>42.4</td>\n",
              "      <td>35</td>\n",
              "      <td>0.15</td>\n",
              "    </tr>\n",
              "    <tr>\n",
              "      <th>7</th>\n",
              "      <td>10250/65</td>\n",
              "      <td>10250</td>\n",
              "      <td>65</td>\n",
              "      <td>16.8</td>\n",
              "      <td>15</td>\n",
              "      <td>0.15</td>\n",
              "    </tr>\n",
              "  </tbody>\n",
              "</table>\n",
              "</div>"
            ],
            "text/plain": [
              "         Id  OrderId  ProductId  UnitPrice  Quantity  Discount\n",
              "6  10250/51    10250         51       42.4        35      0.15\n",
              "7  10250/65    10250         65       16.8        15      0.15"
            ]
          },
          "metadata": {
            "tags": []
          },
          "execution_count": 20
        }
      ]
    },
    {
      "metadata": {
        "colab_type": "code",
        "id": "16Ebxk2JwwRo",
        "outputId": "94f430e1-93c4-4b27-9f2c-827ee1ec0e0f",
        "colab": {
          "base_uri": "https://localhost:8080/",
          "height": 284
        }
      },
      "cell_type": "code",
      "source": [
        "# Examine split dataframes  - df_disc\n",
        "df_disc.describe()"
      ],
      "execution_count": 21,
      "outputs": [
        {
          "output_type": "execute_result",
          "data": {
            "text/html": [
              "<div>\n",
              "<style scoped>\n",
              "    .dataframe tbody tr th:only-of-type {\n",
              "        vertical-align: middle;\n",
              "    }\n",
              "\n",
              "    .dataframe tbody tr th {\n",
              "        vertical-align: top;\n",
              "    }\n",
              "\n",
              "    .dataframe thead th {\n",
              "        text-align: right;\n",
              "    }\n",
              "</style>\n",
              "<table border=\"1\" class=\"dataframe\">\n",
              "  <thead>\n",
              "    <tr style=\"text-align: right;\">\n",
              "      <th></th>\n",
              "      <th>OrderId</th>\n",
              "      <th>ProductId</th>\n",
              "      <th>UnitPrice</th>\n",
              "      <th>Quantity</th>\n",
              "      <th>Discount</th>\n",
              "    </tr>\n",
              "  </thead>\n",
              "  <tbody>\n",
              "    <tr>\n",
              "      <th>count</th>\n",
              "      <td>838.000000</td>\n",
              "      <td>838.000000</td>\n",
              "      <td>838.000000</td>\n",
              "      <td>838.000000</td>\n",
              "      <td>838.000000</td>\n",
              "    </tr>\n",
              "    <tr>\n",
              "      <th>mean</th>\n",
              "      <td>10654.007160</td>\n",
              "      <td>39.844869</td>\n",
              "      <td>26.292363</td>\n",
              "      <td>27.109785</td>\n",
              "      <td>0.144439</td>\n",
              "    </tr>\n",
              "    <tr>\n",
              "      <th>std</th>\n",
              "      <td>235.887125</td>\n",
              "      <td>22.046812</td>\n",
              "      <td>30.017214</td>\n",
              "      <td>20.771439</td>\n",
              "      <td>0.071808</td>\n",
              "    </tr>\n",
              "    <tr>\n",
              "      <th>min</th>\n",
              "      <td>10250.000000</td>\n",
              "      <td>1.000000</td>\n",
              "      <td>2.000000</td>\n",
              "      <td>1.000000</td>\n",
              "      <td>0.010000</td>\n",
              "    </tr>\n",
              "    <tr>\n",
              "      <th>25%</th>\n",
              "      <td>10452.250000</td>\n",
              "      <td>21.000000</td>\n",
              "      <td>12.500000</td>\n",
              "      <td>12.000000</td>\n",
              "      <td>0.100000</td>\n",
              "    </tr>\n",
              "    <tr>\n",
              "      <th>50%</th>\n",
              "      <td>10645.000000</td>\n",
              "      <td>40.000000</td>\n",
              "      <td>18.000000</td>\n",
              "      <td>20.000000</td>\n",
              "      <td>0.150000</td>\n",
              "    </tr>\n",
              "    <tr>\n",
              "      <th>75%</th>\n",
              "      <td>10847.000000</td>\n",
              "      <td>59.000000</td>\n",
              "      <td>31.230000</td>\n",
              "      <td>36.000000</td>\n",
              "      <td>0.200000</td>\n",
              "    </tr>\n",
              "    <tr>\n",
              "      <th>max</th>\n",
              "      <td>11077.000000</td>\n",
              "      <td>77.000000</td>\n",
              "      <td>263.500000</td>\n",
              "      <td>130.000000</td>\n",
              "      <td>0.250000</td>\n",
              "    </tr>\n",
              "  </tbody>\n",
              "</table>\n",
              "</div>"
            ],
            "text/plain": [
              "            OrderId   ProductId   UnitPrice    Quantity    Discount\n",
              "count    838.000000  838.000000  838.000000  838.000000  838.000000\n",
              "mean   10654.007160   39.844869   26.292363   27.109785    0.144439\n",
              "std      235.887125   22.046812   30.017214   20.771439    0.071808\n",
              "min    10250.000000    1.000000    2.000000    1.000000    0.010000\n",
              "25%    10452.250000   21.000000   12.500000   12.000000    0.100000\n",
              "50%    10645.000000   40.000000   18.000000   20.000000    0.150000\n",
              "75%    10847.000000   59.000000   31.230000   36.000000    0.200000\n",
              "max    11077.000000   77.000000  263.500000  130.000000    0.250000"
            ]
          },
          "metadata": {
            "tags": []
          },
          "execution_count": 21
        }
      ]
    },
    {
      "metadata": {
        "colab_type": "code",
        "id": "yhiC4aWY82VH",
        "outputId": "cbde199e-c5eb-4d9c-9b42-8fb3c2e4e487",
        "colab": {
          "base_uri": "https://localhost:8080/",
          "height": 106
        }
      },
      "cell_type": "code",
      "source": [
        "# Separating df_no_disc\n",
        "df_no_disc = df.loc[df['Discount']==0]\n",
        "df_no_disc.head(2)"
      ],
      "execution_count": 22,
      "outputs": [
        {
          "output_type": "execute_result",
          "data": {
            "text/html": [
              "<div>\n",
              "<style scoped>\n",
              "    .dataframe tbody tr th:only-of-type {\n",
              "        vertical-align: middle;\n",
              "    }\n",
              "\n",
              "    .dataframe tbody tr th {\n",
              "        vertical-align: top;\n",
              "    }\n",
              "\n",
              "    .dataframe thead th {\n",
              "        text-align: right;\n",
              "    }\n",
              "</style>\n",
              "<table border=\"1\" class=\"dataframe\">\n",
              "  <thead>\n",
              "    <tr style=\"text-align: right;\">\n",
              "      <th></th>\n",
              "      <th>Id</th>\n",
              "      <th>OrderId</th>\n",
              "      <th>ProductId</th>\n",
              "      <th>UnitPrice</th>\n",
              "      <th>Quantity</th>\n",
              "      <th>Discount</th>\n",
              "    </tr>\n",
              "  </thead>\n",
              "  <tbody>\n",
              "    <tr>\n",
              "      <th>0</th>\n",
              "      <td>10248/11</td>\n",
              "      <td>10248</td>\n",
              "      <td>11</td>\n",
              "      <td>14.0</td>\n",
              "      <td>12</td>\n",
              "      <td>0.0</td>\n",
              "    </tr>\n",
              "    <tr>\n",
              "      <th>1</th>\n",
              "      <td>10248/42</td>\n",
              "      <td>10248</td>\n",
              "      <td>42</td>\n",
              "      <td>9.8</td>\n",
              "      <td>10</td>\n",
              "      <td>0.0</td>\n",
              "    </tr>\n",
              "  </tbody>\n",
              "</table>\n",
              "</div>"
            ],
            "text/plain": [
              "         Id  OrderId  ProductId  UnitPrice  Quantity  Discount\n",
              "0  10248/11    10248         11       14.0        12       0.0\n",
              "1  10248/42    10248         42        9.8        10       0.0"
            ]
          },
          "metadata": {
            "tags": []
          },
          "execution_count": 22
        }
      ]
    },
    {
      "metadata": {
        "colab_type": "code",
        "id": "CXEftlqV9SWd",
        "outputId": "94fe28fb-e615-4863-95f9-ce14b81589ac",
        "colab": {
          "base_uri": "https://localhost:8080/",
          "height": 284
        }
      },
      "cell_type": "code",
      "source": [
        "# Examine split dataframes  - df_disc\n",
        "df_no_disc.describe()"
      ],
      "execution_count": 23,
      "outputs": [
        {
          "output_type": "execute_result",
          "data": {
            "text/html": [
              "<div>\n",
              "<style scoped>\n",
              "    .dataframe tbody tr th:only-of-type {\n",
              "        vertical-align: middle;\n",
              "    }\n",
              "\n",
              "    .dataframe tbody tr th {\n",
              "        vertical-align: top;\n",
              "    }\n",
              "\n",
              "    .dataframe thead th {\n",
              "        text-align: right;\n",
              "    }\n",
              "</style>\n",
              "<table border=\"1\" class=\"dataframe\">\n",
              "  <thead>\n",
              "    <tr style=\"text-align: right;\">\n",
              "      <th></th>\n",
              "      <th>OrderId</th>\n",
              "      <th>ProductId</th>\n",
              "      <th>UnitPrice</th>\n",
              "      <th>Quantity</th>\n",
              "      <th>Discount</th>\n",
              "    </tr>\n",
              "  </thead>\n",
              "  <tbody>\n",
              "    <tr>\n",
              "      <th>count</th>\n",
              "      <td>1317.000000</td>\n",
              "      <td>1317.000000</td>\n",
              "      <td>1317.000000</td>\n",
              "      <td>1317.000000</td>\n",
              "      <td>1317.0</td>\n",
              "    </tr>\n",
              "    <tr>\n",
              "      <th>mean</th>\n",
              "      <td>10662.791951</td>\n",
              "      <td>41.396355</td>\n",
              "      <td>26.171534</td>\n",
              "      <td>21.715262</td>\n",
              "      <td>0.0</td>\n",
              "    </tr>\n",
              "    <tr>\n",
              "      <th>std</th>\n",
              "      <td>244.835366</td>\n",
              "      <td>22.217410</td>\n",
              "      <td>29.717354</td>\n",
              "      <td>17.507493</td>\n",
              "      <td>0.0</td>\n",
              "    </tr>\n",
              "    <tr>\n",
              "      <th>min</th>\n",
              "      <td>10248.000000</td>\n",
              "      <td>1.000000</td>\n",
              "      <td>2.000000</td>\n",
              "      <td>1.000000</td>\n",
              "      <td>0.0</td>\n",
              "    </tr>\n",
              "    <tr>\n",
              "      <th>25%</th>\n",
              "      <td>10448.000000</td>\n",
              "      <td>23.000000</td>\n",
              "      <td>12.000000</td>\n",
              "      <td>10.000000</td>\n",
              "      <td>0.0</td>\n",
              "    </tr>\n",
              "    <tr>\n",
              "      <th>50%</th>\n",
              "      <td>10671.000000</td>\n",
              "      <td>41.000000</td>\n",
              "      <td>18.400000</td>\n",
              "      <td>18.000000</td>\n",
              "      <td>0.0</td>\n",
              "    </tr>\n",
              "    <tr>\n",
              "      <th>75%</th>\n",
              "      <td>10879.000000</td>\n",
              "      <td>60.000000</td>\n",
              "      <td>32.800000</td>\n",
              "      <td>30.000000</td>\n",
              "      <td>0.0</td>\n",
              "    </tr>\n",
              "    <tr>\n",
              "      <th>max</th>\n",
              "      <td>11077.000000</td>\n",
              "      <td>77.000000</td>\n",
              "      <td>263.500000</td>\n",
              "      <td>130.000000</td>\n",
              "      <td>0.0</td>\n",
              "    </tr>\n",
              "  </tbody>\n",
              "</table>\n",
              "</div>"
            ],
            "text/plain": [
              "            OrderId    ProductId    UnitPrice     Quantity  Discount\n",
              "count   1317.000000  1317.000000  1317.000000  1317.000000    1317.0\n",
              "mean   10662.791951    41.396355    26.171534    21.715262       0.0\n",
              "std      244.835366    22.217410    29.717354    17.507493       0.0\n",
              "min    10248.000000     1.000000     2.000000     1.000000       0.0\n",
              "25%    10448.000000    23.000000    12.000000    10.000000       0.0\n",
              "50%    10671.000000    41.000000    18.400000    18.000000       0.0\n",
              "75%    10879.000000    60.000000    32.800000    30.000000       0.0\n",
              "max    11077.000000    77.000000   263.500000   130.000000       0.0"
            ]
          },
          "metadata": {
            "tags": []
          },
          "execution_count": 23
        }
      ]
    },
    {
      "metadata": {
        "colab_type": "text",
        "id": "Fq_JAeWWwwRy"
      },
      "cell_type": "markdown",
      "source": [
        "#### 2. Run each df thought detect_outliers to get outlier index"
      ]
    },
    {
      "metadata": {
        "colab_type": "text",
        "id": "eMA7n-4O9X7o"
      },
      "cell_type": "markdown",
      "source": [
        "##### Run detect_outliers on df_disc and then examine stats of outliers\n"
      ]
    },
    {
      "metadata": {
        "colab_type": "code",
        "id": "nxaepnCPwwRz",
        "outputId": "991ddfd9-29f8-4e29-f38a-cb32d2902a2d",
        "colab": {
          "base_uri": "https://localhost:8080/",
          "height": 302
        }
      },
      "cell_type": "code",
      "source": [
        "# Detect outliers in df_disc\n",
        "outlier_disc = detect_outliers(df_disc,0,['Quantity'])\n",
        "\n",
        "print(f'There are {len(outlier_disc)} outliers out of {len(df)} = {len(outlier_disc)/len(df)*100}%')\n",
        "df[['Quantity','Discount']].iloc[outlier_disc].describe()\n",
        "# df.iloc[outlier_disc].sort_values('Quantity', ascending=False).head()"
      ],
      "execution_count": 24,
      "outputs": [
        {
          "output_type": "stream",
          "text": [
            "There are 29 outliers out of 2155 = 1.345707656612529%\n"
          ],
          "name": "stdout"
        },
        {
          "output_type": "execute_result",
          "data": {
            "text/html": [
              "<div>\n",
              "<style scoped>\n",
              "    .dataframe tbody tr th:only-of-type {\n",
              "        vertical-align: middle;\n",
              "    }\n",
              "\n",
              "    .dataframe tbody tr th {\n",
              "        vertical-align: top;\n",
              "    }\n",
              "\n",
              "    .dataframe thead th {\n",
              "        text-align: right;\n",
              "    }\n",
              "</style>\n",
              "<table border=\"1\" class=\"dataframe\">\n",
              "  <thead>\n",
              "    <tr style=\"text-align: right;\">\n",
              "      <th></th>\n",
              "      <th>Quantity</th>\n",
              "      <th>Discount</th>\n",
              "    </tr>\n",
              "  </thead>\n",
              "  <tbody>\n",
              "    <tr>\n",
              "      <th>count</th>\n",
              "      <td>29.000000</td>\n",
              "      <td>29.000000</td>\n",
              "    </tr>\n",
              "    <tr>\n",
              "      <th>mean</th>\n",
              "      <td>93.862069</td>\n",
              "      <td>0.132759</td>\n",
              "    </tr>\n",
              "    <tr>\n",
              "      <th>std</th>\n",
              "      <td>16.558822</td>\n",
              "      <td>0.069790</td>\n",
              "    </tr>\n",
              "    <tr>\n",
              "      <th>min</th>\n",
              "      <td>77.000000</td>\n",
              "      <td>0.050000</td>\n",
              "    </tr>\n",
              "    <tr>\n",
              "      <th>25%</th>\n",
              "      <td>80.000000</td>\n",
              "      <td>0.050000</td>\n",
              "    </tr>\n",
              "    <tr>\n",
              "      <th>50%</th>\n",
              "      <td>90.000000</td>\n",
              "      <td>0.150000</td>\n",
              "    </tr>\n",
              "    <tr>\n",
              "      <th>75%</th>\n",
              "      <td>100.000000</td>\n",
              "      <td>0.200000</td>\n",
              "    </tr>\n",
              "    <tr>\n",
              "      <th>max</th>\n",
              "      <td>130.000000</td>\n",
              "      <td>0.250000</td>\n",
              "    </tr>\n",
              "  </tbody>\n",
              "</table>\n",
              "</div>"
            ],
            "text/plain": [
              "         Quantity   Discount\n",
              "count   29.000000  29.000000\n",
              "mean    93.862069   0.132759\n",
              "std     16.558822   0.069790\n",
              "min     77.000000   0.050000\n",
              "25%     80.000000   0.050000\n",
              "50%     90.000000   0.150000\n",
              "75%    100.000000   0.200000\n",
              "max    130.000000   0.250000"
            ]
          },
          "metadata": {
            "tags": []
          },
          "execution_count": 24
        }
      ]
    },
    {
      "metadata": {
        "colab_type": "text",
        "id": "dIikkelyABAB"
      },
      "cell_type": "markdown",
      "source": [
        "#### Now checking df_no_disc for outliers\n"
      ]
    },
    {
      "metadata": {
        "colab_type": "code",
        "id": "1uQLmUcZ_5t3",
        "outputId": "88ca196a-e9c7-40f0-b2b1-c32dfd672700",
        "colab": {
          "base_uri": "https://localhost:8080/",
          "height": 302
        }
      },
      "cell_type": "code",
      "source": [
        "# Detect outliers in df_no_disc\n",
        "outlier_no_disc = detect_outliers(df_no_disc,0,['Quantity'])\n",
        "# df.iloc[outlier_no_disc].sort_values('Quantity', ascending=False)#.describe()\n",
        "print(f'There are {len(outlier_no_disc)} outliers out of {len(df)} = {len(outlier_no_disc)/len(df)*100}%')\n",
        "df[['Quantity','Discount']].iloc[outlier_no_disc].describe()"
      ],
      "execution_count": 25,
      "outputs": [
        {
          "output_type": "stream",
          "text": [
            "There are 34 outliers out of 2155 = 1.5777262180974478%\n"
          ],
          "name": "stdout"
        },
        {
          "output_type": "execute_result",
          "data": {
            "text/html": [
              "<div>\n",
              "<style scoped>\n",
              "    .dataframe tbody tr th:only-of-type {\n",
              "        vertical-align: middle;\n",
              "    }\n",
              "\n",
              "    .dataframe tbody tr th {\n",
              "        vertical-align: top;\n",
              "    }\n",
              "\n",
              "    .dataframe thead th {\n",
              "        text-align: right;\n",
              "    }\n",
              "</style>\n",
              "<table border=\"1\" class=\"dataframe\">\n",
              "  <thead>\n",
              "    <tr style=\"text-align: right;\">\n",
              "      <th></th>\n",
              "      <th>Quantity</th>\n",
              "      <th>Discount</th>\n",
              "    </tr>\n",
              "  </thead>\n",
              "  <tbody>\n",
              "    <tr>\n",
              "      <th>count</th>\n",
              "      <td>34.000000</td>\n",
              "      <td>34.0</td>\n",
              "    </tr>\n",
              "    <tr>\n",
              "      <th>mean</th>\n",
              "      <td>85.764706</td>\n",
              "      <td>0.0</td>\n",
              "    </tr>\n",
              "    <tr>\n",
              "      <th>std</th>\n",
              "      <td>19.589822</td>\n",
              "      <td>0.0</td>\n",
              "    </tr>\n",
              "    <tr>\n",
              "      <th>min</th>\n",
              "      <td>63.000000</td>\n",
              "      <td>0.0</td>\n",
              "    </tr>\n",
              "    <tr>\n",
              "      <th>25%</th>\n",
              "      <td>70.000000</td>\n",
              "      <td>0.0</td>\n",
              "    </tr>\n",
              "    <tr>\n",
              "      <th>50%</th>\n",
              "      <td>80.000000</td>\n",
              "      <td>0.0</td>\n",
              "    </tr>\n",
              "    <tr>\n",
              "      <th>75%</th>\n",
              "      <td>100.000000</td>\n",
              "      <td>0.0</td>\n",
              "    </tr>\n",
              "    <tr>\n",
              "      <th>max</th>\n",
              "      <td>130.000000</td>\n",
              "      <td>0.0</td>\n",
              "    </tr>\n",
              "  </tbody>\n",
              "</table>\n",
              "</div>"
            ],
            "text/plain": [
              "         Quantity  Discount\n",
              "count   34.000000      34.0\n",
              "mean    85.764706       0.0\n",
              "std     19.589822       0.0\n",
              "min     63.000000       0.0\n",
              "25%     70.000000       0.0\n",
              "50%     80.000000       0.0\n",
              "75%    100.000000       0.0\n",
              "max    130.000000       0.0"
            ]
          },
          "metadata": {
            "tags": []
          },
          "execution_count": 25
        }
      ]
    },
    {
      "metadata": {
        "colab_type": "code",
        "id": "Kz4oI-IPwwRu",
        "colab": {}
      },
      "cell_type": "code",
      "source": [
        "# print(f'Checking the statstics for the outliers from df_disc...' )\n",
        "# df[['Quantity','Discount']].iloc[outlier_no_disc] #.describe()"
      ],
      "execution_count": 0,
      "outputs": []
    },
    {
      "metadata": {
        "colab_type": "text",
        "id": "gGqk4D46HP4O"
      },
      "cell_type": "markdown",
      "source": [
        "## Now we should test if we remove those outliers, do we pass the normality test\n",
        "\n",
        "- Hmm ok so there is somethihng a bit weird about the outlier indices. They MUST be the index from the first df before we split it.\n",
        "- This means we will have to remove outliers from full df and split again."
      ]
    },
    {
      "metadata": {
        "colab_type": "code",
        "id": "7GUrC_QaHayz",
        "outputId": "90c63f0f-a129-4233-fb4d-390dc418ebae",
        "colab": {
          "base_uri": "https://localhost:8080/",
          "height": 193
        }
      },
      "cell_type": "code",
      "source": [
        "df_to_clean = df.copy()\n",
        "\n",
        "# I was being 'lazy' and zipping seemed easier lol\n",
        "remove_label= ['outlier_disc','outlier_no_disc']\n",
        "remove_data= [outlier_disc,outlier_no_disc]\n",
        "remove_me = dict(zip(remove_label,remove_data))\n",
        "\n",
        "# Loop and replace indices of outliers with np.nan \n",
        "for key,val in remove_me.items():\n",
        "  df_to_clean.iloc[val]=np.nan\n",
        "  print(f'{key} removed {len(val)} outliers')\n",
        "  \n",
        "  \n",
        "print('After removal:')\n",
        "print(df_to_clean.isna().sum())\n",
        "  \n"
      ],
      "execution_count": 27,
      "outputs": [
        {
          "output_type": "stream",
          "text": [
            "outlier_disc removed 29 outliers\n",
            "outlier_no_disc removed 34 outliers\n",
            "After removal:\n",
            "Id           63\n",
            "OrderId      63\n",
            "ProductId    63\n",
            "UnitPrice    63\n",
            "Quantity     63\n",
            "Discount     63\n",
            "dtype: int64\n"
          ],
          "name": "stdout"
        }
      ]
    },
    {
      "metadata": {
        "colab_type": "code",
        "id": "Uk4M3t4gKGa9",
        "outputId": "a575fd8e-e5b5-4ddd-c2dd-886d3878ba2e",
        "colab": {
          "base_uri": "https://localhost:8080/",
          "height": 210
        }
      },
      "cell_type": "code",
      "source": [
        "# Replace na and run stattest \n",
        "\n",
        "df_to_clean.info()"
      ],
      "execution_count": 28,
      "outputs": [
        {
          "output_type": "stream",
          "text": [
            "<class 'pandas.core.frame.DataFrame'>\n",
            "RangeIndex: 2155 entries, 0 to 2154\n",
            "Data columns (total 6 columns):\n",
            "Id           2092 non-null object\n",
            "OrderId      2092 non-null float64\n",
            "ProductId    2092 non-null float64\n",
            "UnitPrice    2092 non-null float64\n",
            "Quantity     2092 non-null float64\n",
            "Discount     2092 non-null float64\n",
            "dtypes: float64(5), object(1)\n",
            "memory usage: 101.1+ KB\n"
          ],
          "name": "stdout"
        }
      ]
    },
    {
      "metadata": {
        "colab_type": "code",
        "id": "W-5EtAuNMF84",
        "outputId": "e2cd1616-486f-49f8-d12b-f94d37e5da96",
        "colab": {
          "base_uri": "https://localhost:8080/",
          "height": 210
        }
      },
      "cell_type": "code",
      "source": [
        "df_clean = df_to_clean.dropna(axis=0)\n",
        "df_clean.info()"
      ],
      "execution_count": 29,
      "outputs": [
        {
          "output_type": "stream",
          "text": [
            "<class 'pandas.core.frame.DataFrame'>\n",
            "Int64Index: 2092 entries, 0 to 2154\n",
            "Data columns (total 6 columns):\n",
            "Id           2092 non-null object\n",
            "OrderId      2092 non-null float64\n",
            "ProductId    2092 non-null float64\n",
            "UnitPrice    2092 non-null float64\n",
            "Quantity     2092 non-null float64\n",
            "Discount     2092 non-null float64\n",
            "dtypes: float64(5), object(1)\n",
            "memory usage: 114.4+ KB\n"
          ],
          "name": "stdout"
        }
      ]
    },
    {
      "metadata": {
        "colab_type": "text",
        "id": "6PrPoFbsMZKb"
      },
      "cell_type": "markdown",
      "source": [
        "#### NOW ADD NORMTEST"
      ]
    },
    {
      "metadata": {
        "colab_type": "code",
        "id": "I72gdFKvwwR9",
        "outputId": "65a8786d-94ea-427f-8c46-60582c73991b",
        "colab": {
          "base_uri": "https://localhost:8080/",
          "height": 210
        }
      },
      "cell_type": "code",
      "source": [
        "df_discounted = df_clean.loc[df_clean['Discount']>0]\n",
        "df_discounted.info()"
      ],
      "execution_count": 30,
      "outputs": [
        {
          "output_type": "stream",
          "text": [
            "<class 'pandas.core.frame.DataFrame'>\n",
            "Int64Index: 809 entries, 6 to 2152\n",
            "Data columns (total 6 columns):\n",
            "Id           809 non-null object\n",
            "OrderId      809 non-null float64\n",
            "ProductId    809 non-null float64\n",
            "UnitPrice    809 non-null float64\n",
            "Quantity     809 non-null float64\n",
            "Discount     809 non-null float64\n",
            "dtypes: float64(5), object(1)\n",
            "memory usage: 44.2+ KB\n"
          ],
          "name": "stdout"
        }
      ]
    },
    {
      "metadata": {
        "colab_type": "code",
        "id": "aJ4PYoacM8Pn",
        "outputId": "341ee07e-e5a9-4439-a1b0-d92a485975d9",
        "colab": {
          "base_uri": "https://localhost:8080/",
          "height": 210
        }
      },
      "cell_type": "code",
      "source": [
        "df_fullprice = df_clean.loc[df_clean['Discount']==0]\n",
        "df_fullprice.info()"
      ],
      "execution_count": 31,
      "outputs": [
        {
          "output_type": "stream",
          "text": [
            "<class 'pandas.core.frame.DataFrame'>\n",
            "Int64Index: 1283 entries, 0 to 2154\n",
            "Data columns (total 6 columns):\n",
            "Id           1283 non-null object\n",
            "OrderId      1283 non-null float64\n",
            "ProductId    1283 non-null float64\n",
            "UnitPrice    1283 non-null float64\n",
            "Quantity     1283 non-null float64\n",
            "Discount     1283 non-null float64\n",
            "dtypes: float64(5), object(1)\n",
            "memory usage: 70.2+ KB\n"
          ],
          "name": "stdout"
        }
      ]
    },
    {
      "metadata": {
        "colab_type": "code",
        "id": "B8V_fLKzNLgS",
        "outputId": "169b43d3-119d-45b6-803d-156d33825ac4",
        "colab": {
          "base_uri": "https://localhost:8080/",
          "height": 34
        }
      },
      "cell_type": "code",
      "source": [
        "from scipy.stats import normaltest \n",
        "stat, p = normaltest(df_discounted['Quantity'])\n",
        "print(f'p ={p}, stat ={stat}')\n",
        "\n",
        "results_normtest = [['DataIn','stat','p']]\n",
        "results_normtest.append(['Discounted, cleaned',stat,p])"
      ],
      "execution_count": 32,
      "outputs": [
        {
          "output_type": "stream",
          "text": [
            "p =1.9869796006071744e-18, stat =81.51983195360808\n"
          ],
          "name": "stdout"
        }
      ]
    },
    {
      "metadata": {
        "colab_type": "code",
        "id": "L6l3S61dPEng",
        "colab": {}
      },
      "cell_type": "code",
      "source": [
        "# Shapiro-Wilk Test\n",
        "from numpy.random import seed\n",
        "from numpy.random import randn\n",
        "from scipy.stats import shapiro\n"
      ],
      "execution_count": 0,
      "outputs": []
    },
    {
      "metadata": {
        "colab_type": "text",
        "id": "gnAePBXgN1BH"
      },
      "cell_type": "markdown",
      "source": [
        "#### Thoughts...\n",
        "- **Hmmmm...why didn't that work? Or maybe it did and the test is too picky?**\n",
        "- What was the original data's norm test?\n",
        "  - Run again below:"
      ]
    },
    {
      "metadata": {
        "colab_type": "text",
        "id": "tciaNn_rWcAW"
      },
      "cell_type": "markdown",
      "source": [
        "### DEF normtest_results to run multiple normaltests and save results"
      ]
    },
    {
      "metadata": {
        "colab_type": "code",
        "id": "Hb6MwcV-POzb",
        "colab": {}
      },
      "cell_type": "code",
      "source": [
        "# DEFINING FUNCTION \n",
        "#data_in={'name':data}\n",
        "def normtest_results(dict_data):\n",
        "\n",
        "  results_normtest_shap = [['DataIn','Test','stat','p']]\n",
        "  results_normtest_dagp = [['DataIn','Test','stat','p']]\n",
        "\n",
        "  for key,val in dict_data.items():\n",
        "\n",
        "    data_in = val\n",
        "    name = key\n",
        "    test = 'Shapiro'\n",
        "    stat, p = shapiro(data_in)\n",
        "    results_normtest_shap.append([name , test, stat , p ])\n",
        "    test = 'D’Agostino’s'\n",
        "    stat, p = normaltest(data_in)\n",
        "    results_normtest_dagp.append([name,test,stat, p])\n",
        "\n",
        "  results_normtest = pd.concat([list2df(results_normtest_shap), list2df(results_normtest_dagp)]) \n",
        "\n",
        "  return results_normtest, list2df(results_normtest_shap),list2df(results_normtest_dagp)\n",
        "#   results_pivot = results.pivot(index='DataIn', columns= 'Test')\n",
        "#   results_pivot.stack(0)\n"
      ],
      "execution_count": 0,
      "outputs": []
    },
    {
      "metadata": {
        "colab_type": "code",
        "id": "QQlm4VmiUPOG",
        "colab": {}
      },
      "cell_type": "code",
      "source": [
        "# Building data_in dictionary for normtest_results\n",
        "data_in = {}\n",
        "\n",
        "df_disc_orig = df_disc\n",
        "df_no_disc_orig = df_no_disc\n",
        "\n",
        "data_in['Orig, Disc'] = df_disc_orig['Quantity']\n",
        "data_in['Clean,Disc'] = df_discounted['Quantity']\n",
        "data_in['Orig, Full Price'] = df_no_disc_orig['Quantity']\n",
        "data_in['Clean, Full Price'] = df_fullprice['Quantity']\n",
        "results = normtest_results(data_in)[0]\n",
        "# print(results.groupby('Test'))"
      ],
      "execution_count": 0,
      "outputs": []
    },
    {
      "metadata": {
        "id": "vjRnQs732Lxv",
        "colab_type": "text"
      },
      "cell_type": "markdown",
      "source": [
        "## BOOKMARK START... Transforming the data with a new version of normtest.<img src=\"https://www.dropbox.com/s/6xqzendi1iyzls8/bookmark.png?raw=1\" width=25>  @NOW"
      ]
    },
    {
      "metadata": {
        "id": "PVXDUinWuA9G",
        "colab_type": "text"
      },
      "cell_type": "markdown",
      "source": [
        "## Normalizing the data to pass assumptions:\n"
      ]
    },
    {
      "metadata": {
        "id": "NSZa0Ato1PAm",
        "colab_type": "code",
        "colab": {}
      },
      "cell_type": "code",
      "source": [
        ""
      ],
      "execution_count": 0,
      "outputs": []
    },
    {
      "metadata": {
        "id": "BXBrLK3LuAu1",
        "colab_type": "code",
        "colab": {}
      },
      "cell_type": "code",
      "source": [
        "# df_discounted.info(),print('\\n'), df_fullprice.info()"
      ],
      "execution_count": 0,
      "outputs": []
    },
    {
      "metadata": {
        "id": "HGylCC5WuwYG",
        "colab_type": "code",
        "colab": {}
      },
      "cell_type": "code",
      "source": [
        "from sklearn import preprocessing as prep \n",
        "from sklearn.preprocessing import QuantileTransformer\n",
        "# quantTrans = QuantileTransformer(output_distribution='normal')\n",
        "qt =  QuantileTransformer(n_quantiles=10,output_distribution='normal')\n"
      ],
      "execution_count": 0,
      "outputs": []
    },
    {
      "metadata": {
        "id": "FcXEODDMw_Ei",
        "colab_type": "code",
        "outputId": "e943a346-404c-4068-8bd9-a8e4a652fa1f",
        "colab": {
          "base_uri": "https://localhost:8080/",
          "height": 343
        }
      },
      "cell_type": "code",
      "source": [
        "test_data = df_disc[['Quantity','Discount']]\n",
        "test_data[0:10]"
      ],
      "execution_count": 38,
      "outputs": [
        {
          "output_type": "execute_result",
          "data": {
            "text/html": [
              "<div>\n",
              "<style scoped>\n",
              "    .dataframe tbody tr th:only-of-type {\n",
              "        vertical-align: middle;\n",
              "    }\n",
              "\n",
              "    .dataframe tbody tr th {\n",
              "        vertical-align: top;\n",
              "    }\n",
              "\n",
              "    .dataframe thead th {\n",
              "        text-align: right;\n",
              "    }\n",
              "</style>\n",
              "<table border=\"1\" class=\"dataframe\">\n",
              "  <thead>\n",
              "    <tr style=\"text-align: right;\">\n",
              "      <th></th>\n",
              "      <th>Quantity</th>\n",
              "      <th>Discount</th>\n",
              "    </tr>\n",
              "  </thead>\n",
              "  <tbody>\n",
              "    <tr>\n",
              "      <th>6</th>\n",
              "      <td>35</td>\n",
              "      <td>0.15</td>\n",
              "    </tr>\n",
              "    <tr>\n",
              "      <th>7</th>\n",
              "      <td>15</td>\n",
              "      <td>0.15</td>\n",
              "    </tr>\n",
              "    <tr>\n",
              "      <th>8</th>\n",
              "      <td>6</td>\n",
              "      <td>0.05</td>\n",
              "    </tr>\n",
              "    <tr>\n",
              "      <th>9</th>\n",
              "      <td>15</td>\n",
              "      <td>0.05</td>\n",
              "    </tr>\n",
              "    <tr>\n",
              "      <th>11</th>\n",
              "      <td>40</td>\n",
              "      <td>0.05</td>\n",
              "    </tr>\n",
              "    <tr>\n",
              "      <th>12</th>\n",
              "      <td>25</td>\n",
              "      <td>0.05</td>\n",
              "    </tr>\n",
              "    <tr>\n",
              "      <th>17</th>\n",
              "      <td>15</td>\n",
              "      <td>0.15</td>\n",
              "    </tr>\n",
              "    <tr>\n",
              "      <th>18</th>\n",
              "      <td>21</td>\n",
              "      <td>0.15</td>\n",
              "    </tr>\n",
              "    <tr>\n",
              "      <th>29</th>\n",
              "      <td>50</td>\n",
              "      <td>0.20</td>\n",
              "    </tr>\n",
              "    <tr>\n",
              "      <th>30</th>\n",
              "      <td>65</td>\n",
              "      <td>0.20</td>\n",
              "    </tr>\n",
              "  </tbody>\n",
              "</table>\n",
              "</div>"
            ],
            "text/plain": [
              "    Quantity  Discount\n",
              "6         35      0.15\n",
              "7         15      0.15\n",
              "8          6      0.05\n",
              "9         15      0.05\n",
              "11        40      0.05\n",
              "12        25      0.05\n",
              "17        15      0.15\n",
              "18        21      0.15\n",
              "29        50      0.20\n",
              "30        65      0.20"
            ]
          },
          "metadata": {
            "tags": []
          },
          "execution_count": 38
        }
      ]
    },
    {
      "metadata": {
        "id": "0O-hqxMIxOFk",
        "colab_type": "code",
        "outputId": "43a9a3fe-aa09-49c9-8d4c-3efae95d111a",
        "colab": {
          "base_uri": "https://localhost:8080/",
          "height": 140
        }
      },
      "cell_type": "code",
      "source": [
        "test_data.describe()\n",
        "test_data.info()"
      ],
      "execution_count": 39,
      "outputs": [
        {
          "output_type": "stream",
          "text": [
            "<class 'pandas.core.frame.DataFrame'>\n",
            "Int64Index: 838 entries, 6 to 2152\n",
            "Data columns (total 2 columns):\n",
            "Quantity    838 non-null int64\n",
            "Discount    838 non-null float64\n",
            "dtypes: float64(1), int64(1)\n",
            "memory usage: 19.6 KB\n"
          ],
          "name": "stdout"
        }
      ]
    },
    {
      "metadata": {
        "id": "tnDJjnolxwQD",
        "colab_type": "code",
        "outputId": "adbf07d7-1d8b-411c-acb5-542a51083b27",
        "colab": {
          "base_uri": "https://localhost:8080/",
          "height": 505
        }
      },
      "cell_type": "code",
      "source": [
        "test_data.hist()"
      ],
      "execution_count": 40,
      "outputs": [
        {
          "output_type": "execute_result",
          "data": {
            "text/plain": [
              "array([[<matplotlib.axes._subplots.AxesSubplot object at 0x7fb942221358>,\n",
              "        <matplotlib.axes._subplots.AxesSubplot object at 0x7fb9421d5240>]],\n",
              "      dtype=object)"
            ]
          },
          "metadata": {
            "tags": []
          },
          "execution_count": 40
        },
        {
          "output_type": "display_data",
          "data": {
            "image/png": "[encoded data removed]",
            "text/plain": [
              "<Figure size 640x480 with 2 Axes>"
            ]
          },
          "metadata": {
            "tags": []
          }
        }
      ]
    },
    {
      "metadata": {
        "id": "M92AZIL0vgrw",
        "colab_type": "code",
        "outputId": "d9eead14-bf45-436b-d998-e09ad2d77ba9",
        "colab": {
          "base_uri": "https://localhost:8080/",
          "height": 646
        }
      },
      "cell_type": "code",
      "source": [
        "test = qt.fit_transform(np.array(test_data['Quantity']).reshape(-1,1))\n",
        "test_data['post_transform']=test\n",
        "test_data.hist()"
      ],
      "execution_count": 41,
      "outputs": [
        {
          "output_type": "stream",
          "text": [
            "/usr/local/lib/python3.6/dist-packages/ipykernel_launcher.py:2: SettingWithCopyWarning: \n",
            "A value is trying to be set on a copy of a slice from a DataFrame.\n",
            "Try using .loc[row_indexer,col_indexer] = value instead\n",
            "\n",
            "See the caveats in the documentation: http://pandas.pydata.org/pandas-docs/stable/indexing.html#indexing-view-versus-copy\n",
            "  \n"
          ],
          "name": "stderr"
        },
        {
          "output_type": "execute_result",
          "data": {
            "text/plain": [
              "array([[<matplotlib.axes._subplots.AxesSubplot object at 0x7fb9443fc668>,\n",
              "        <matplotlib.axes._subplots.AxesSubplot object at 0x7fb9421f0f98>],\n",
              "       [<matplotlib.axes._subplots.AxesSubplot object at 0x7fb9421ef7f0>,\n",
              "        <matplotlib.axes._subplots.AxesSubplot object at 0x7fb9421f6b70>]],\n",
              "      dtype=object)"
            ]
          },
          "metadata": {
            "tags": []
          },
          "execution_count": 41
        },
        {
          "output_type": "display_data",
          "data": {
            "image/png": "[encoded data removed]",
            "text/plain": [
              "<Figure size 640x480 with 4 Axes>"
            ]
          },
          "metadata": {
            "tags": []
          }
        }
      ]
    },
    {
      "metadata": {
        "id": "tNM9B_dOxyv1",
        "colab_type": "text"
      },
      "cell_type": "markdown",
      "source": [
        "### EXACT BOOKMARK 04-01-19 @ 1:25\n",
        "pm"
      ]
    },
    {
      "metadata": {
        "id": "qLhZ2Me87peg",
        "colab_type": "code",
        "colab": {}
      },
      "cell_type": "code",
      "source": [
        ""
      ],
      "execution_count": 0,
      "outputs": []
    },
    {
      "metadata": {
        "id": "GBZfYvQO2Jr0",
        "colab_type": "code",
        "colab": {}
      },
      "cell_type": "code",
      "source": [
        "# TRANSFORM DATA BEFORE RE-CALLING ORIGINAL normtest_results\n",
        "from sklearn import preprocessing as prep \n",
        "from sklearn.preprocessing import QuantileTransformer\n",
        "# quantTrans = QuantileTransformer(output_distribution='normal')\n",
        "qt =  QuantileTransformer(n_quantiles=10,output_distribution='normal')\n",
        "\n",
        "def transform(data_in):\n",
        "  \n",
        "  for k,v in data_in.items():    \n",
        "      data = np.array(v).reshape(-1,1)\n",
        "      transformed = pd.Series(np.squeeze(qt.fit_transform(data)))\n",
        "      \n",
        "      data_in[k] = transformed\n",
        "        \n",
        "  return data_in\n",
        "    "
      ],
      "execution_count": 0,
      "outputs": []
    },
    {
      "metadata": {
        "id": "WRM2gRQACpcj",
        "colab_type": "code",
        "outputId": "cef9b137-4b0a-499b-c69c-17d35a52d981",
        "colab": {
          "base_uri": "https://localhost:8080/",
          "height": 52
        }
      },
      "cell_type": "code",
      "source": [
        "data_in_tf = transform(data_in)\n",
        "trans_data_in=data_in_tf\n",
        "type(data_in_tf)\n",
        "print([k.title() for k,x in data_in_tf.items()])\n",
        "print([len(x) for k,x in data_in_tf.items()])"
      ],
      "execution_count": 43,
      "outputs": [
        {
          "output_type": "stream",
          "text": [
            "['Orig, Disc', 'Clean,Disc', 'Orig, Full Price', 'Clean, Full Price']\n",
            "[838, 809, 1317, 1283]\n"
          ],
          "name": "stdout"
        }
      ]
    },
    {
      "metadata": {
        "id": "Jeun-AWq1m47",
        "colab_type": "code",
        "colab": {}
      },
      "cell_type": "code",
      "source": [
        "\n",
        "# def normtest_scaled(dict_data):\n",
        "  \n",
        "#   dict_data = transform(dict_data) \n",
        "#   results_normtest_shap = [['DataIn','Test','stat','p']]\n",
        "#   results_normtest_dagp = [['DataIn','Test','stat','p']]\n",
        "  \n",
        "#   for key,val in dict_data.items():\n",
        "\n",
        "\n",
        "#     data_in = val\n",
        "#     name = key\n",
        "#     test = 'Shapiro'\n",
        "#     stat, p = shapiro(data_in)\n",
        "#     results_normtest_shap.append([name , test, stat , p ])\n",
        "#     test = 'D’Agostino’s'\n",
        "#     stat, p = normaltest(data_in)\n",
        "#     results_normtest_dagp.append([name,test,stat, p])\n",
        "\n",
        "#   results_normtest = pd.concat([list2df(results_normtest_shap), list2df(results_normtest_dagp)]) \n",
        "\n",
        "#   return results_normtest, list2df(results_normtest_shap),list2df(results_normtest_dagp)"
      ],
      "execution_count": 0,
      "outputs": []
    },
    {
      "metadata": {
        "id": "5Iqt2xNPPF8H",
        "colab_type": "code",
        "outputId": "8b486443-782f-4ec3-f81a-a2fd717fd5d6",
        "colab": {
          "base_uri": "https://localhost:8080/",
          "height": 284
        }
      },
      "cell_type": "code",
      "source": [
        "trans_norm_test = normtest_results(trans_data_in)[0]\n",
        "trans_norm_test"
      ],
      "execution_count": 45,
      "outputs": [
        {
          "output_type": "execute_result",
          "data": {
            "text/html": [
              "<div>\n",
              "<style scoped>\n",
              "    .dataframe tbody tr th:only-of-type {\n",
              "        vertical-align: middle;\n",
              "    }\n",
              "\n",
              "    .dataframe tbody tr th {\n",
              "        vertical-align: top;\n",
              "    }\n",
              "\n",
              "    .dataframe thead th {\n",
              "        text-align: right;\n",
              "    }\n",
              "</style>\n",
              "<table border=\"1\" class=\"dataframe\">\n",
              "  <thead>\n",
              "    <tr style=\"text-align: right;\">\n",
              "      <th></th>\n",
              "      <th>DataIn</th>\n",
              "      <th>Test</th>\n",
              "      <th>stat</th>\n",
              "      <th>p</th>\n",
              "    </tr>\n",
              "  </thead>\n",
              "  <tbody>\n",
              "    <tr>\n",
              "      <th>0</th>\n",
              "      <td>Orig, Disc</td>\n",
              "      <td>Shapiro</td>\n",
              "      <td>0.955760</td>\n",
              "      <td>3.409909e-15</td>\n",
              "    </tr>\n",
              "    <tr>\n",
              "      <th>1</th>\n",
              "      <td>Clean,Disc</td>\n",
              "      <td>Shapiro</td>\n",
              "      <td>0.868290</td>\n",
              "      <td>1.598946e-25</td>\n",
              "    </tr>\n",
              "    <tr>\n",
              "      <th>2</th>\n",
              "      <td>Orig, Full Price</td>\n",
              "      <td>Shapiro</td>\n",
              "      <td>0.919123</td>\n",
              "      <td>5.725075e-26</td>\n",
              "    </tr>\n",
              "    <tr>\n",
              "      <th>3</th>\n",
              "      <td>Clean, Full Price</td>\n",
              "      <td>Shapiro</td>\n",
              "      <td>0.855467</td>\n",
              "      <td>1.011598e-32</td>\n",
              "    </tr>\n",
              "    <tr>\n",
              "      <th>0</th>\n",
              "      <td>Orig, Disc</td>\n",
              "      <td>D’Agostino’s</td>\n",
              "      <td>103.590493</td>\n",
              "      <td>3.203393e-23</td>\n",
              "    </tr>\n",
              "    <tr>\n",
              "      <th>1</th>\n",
              "      <td>Clean,Disc</td>\n",
              "      <td>D’Agostino’s</td>\n",
              "      <td>239.235504</td>\n",
              "      <td>1.123752e-52</td>\n",
              "    </tr>\n",
              "    <tr>\n",
              "      <th>2</th>\n",
              "      <td>Orig, Full Price</td>\n",
              "      <td>D’Agostino’s</td>\n",
              "      <td>317.579615</td>\n",
              "      <td>1.092604e-69</td>\n",
              "    </tr>\n",
              "    <tr>\n",
              "      <th>3</th>\n",
              "      <td>Clean, Full Price</td>\n",
              "      <td>D’Agostino’s</td>\n",
              "      <td>281.007986</td>\n",
              "      <td>9.547531e-62</td>\n",
              "    </tr>\n",
              "  </tbody>\n",
              "</table>\n",
              "</div>"
            ],
            "text/plain": [
              "              DataIn          Test        stat             p\n",
              "0         Orig, Disc       Shapiro    0.955760  3.409909e-15\n",
              "1         Clean,Disc       Shapiro    0.868290  1.598946e-25\n",
              "2   Orig, Full Price       Shapiro    0.919123  5.725075e-26\n",
              "3  Clean, Full Price       Shapiro    0.855467  1.011598e-32\n",
              "0         Orig, Disc  D’Agostino’s  103.590493  3.203393e-23\n",
              "1         Clean,Disc  D’Agostino’s  239.235504  1.123752e-52\n",
              "2   Orig, Full Price  D’Agostino’s  317.579615  1.092604e-69\n",
              "3  Clean, Full Price  D’Agostino’s  281.007986  9.547531e-62"
            ]
          },
          "metadata": {
            "tags": []
          },
          "execution_count": 45
        }
      ]
    },
    {
      "metadata": {
        "id": "Cw61oSNnAVdc",
        "colab_type": "code",
        "colab": {}
      },
      "cell_type": "code",
      "source": [
        "dataDict = {'Original':data_in,'Transformed':data_in_tf }\n",
        "# df_data = normtest_results(data_in)[0]\n",
        "dataDict_results = {'Original-Results':normtest_results(data_in),'Transformed-Results': normtest_results(data_in_tf)}"
      ],
      "execution_count": 0,
      "outputs": []
    },
    {
      "metadata": {
        "id": "w3F7bYgx2xlw",
        "colab_type": "code",
        "outputId": "0420f9dd-1476-40d6-fd3c-0d98ba33bdb6",
        "colab": {
          "base_uri": "https://localhost:8080/",
          "height": 351
        }
      },
      "cell_type": "code",
      "source": [
        "# Display info for \n",
        "printDict=dataDict\n",
        "print(f'dataDict')\n",
        "for key, val in printDict.items():\n",
        "  print(key)\n",
        "  for k, v in printDict[key].items():\n",
        "    print(f'   {k}\\n         has {len(v)} values with mean={np.mean(v)}')\n"
      ],
      "execution_count": 47,
      "outputs": [
        {
          "output_type": "stream",
          "text": [
            "dataDict\n",
            "Original\n",
            "   Orig, Disc\n",
            "         has 838 values with mean=-0.040641216074638296\n",
            "   Clean,Disc\n",
            "         has 809 values with mean=0.045823490692881975\n",
            "   Orig, Full Price\n",
            "         has 1317 values with mean=-0.04900331242351082\n",
            "   Clean, Full Price\n",
            "         has 1283 values with mean=0.03598166705462291\n",
            "Transformed\n",
            "   Orig, Disc\n",
            "         has 838 values with mean=-0.040641216074638296\n",
            "   Clean,Disc\n",
            "         has 809 values with mean=0.045823490692881975\n",
            "   Orig, Full Price\n",
            "         has 1317 values with mean=-0.04900331242351082\n",
            "   Clean, Full Price\n",
            "         has 1283 values with mean=0.03598166705462291\n"
          ],
          "name": "stdout"
        }
      ]
    },
    {
      "metadata": {
        "id": "KsDybIeCcWzd",
        "colab_type": "code",
        "outputId": "907f3bca-0f0e-4558-d384-8de9bd707c95",
        "colab": {
          "base_uri": "https://localhost:8080/",
          "height": 686
        }
      },
      "cell_type": "code",
      "source": [
        "dataDict_results"
      ],
      "execution_count": 48,
      "outputs": [
        {
          "output_type": "execute_result",
          "data": {
            "text/plain": [
              "{'Original-Results': (              DataIn          Test        stat             p\n",
              "  0         Orig, Disc       Shapiro    0.955760  3.409909e-15\n",
              "  1         Clean,Disc       Shapiro    0.868290  1.598946e-25\n",
              "  2   Orig, Full Price       Shapiro    0.919123  5.725075e-26\n",
              "  3  Clean, Full Price       Shapiro    0.855467  1.011598e-32\n",
              "  0         Orig, Disc  D’Agostino’s  103.590493  3.203393e-23\n",
              "  1         Clean,Disc  D’Agostino’s  239.235504  1.123752e-52\n",
              "  2   Orig, Full Price  D’Agostino’s  317.579615  1.092604e-69\n",
              "  3  Clean, Full Price  D’Agostino’s  281.007986  9.547531e-62,\n",
              "                DataIn     Test      stat             p\n",
              "  0         Orig, Disc  Shapiro  0.955760  3.409909e-15\n",
              "  1         Clean,Disc  Shapiro  0.868290  1.598946e-25\n",
              "  2   Orig, Full Price  Shapiro  0.919123  5.725075e-26\n",
              "  3  Clean, Full Price  Shapiro  0.855467  1.011598e-32,\n",
              "                DataIn          Test        stat             p\n",
              "  0         Orig, Disc  D’Agostino’s  103.590493  3.203393e-23\n",
              "  1         Clean,Disc  D’Agostino’s  239.235504  1.123752e-52\n",
              "  2   Orig, Full Price  D’Agostino’s  317.579615  1.092604e-69\n",
              "  3  Clean, Full Price  D’Agostino’s  281.007986  9.547531e-62),\n",
              " 'Transformed-Results': (              DataIn          Test        stat             p\n",
              "  0         Orig, Disc       Shapiro    0.955760  3.409909e-15\n",
              "  1         Clean,Disc       Shapiro    0.868290  1.598946e-25\n",
              "  2   Orig, Full Price       Shapiro    0.919123  5.725075e-26\n",
              "  3  Clean, Full Price       Shapiro    0.855467  1.011598e-32\n",
              "  0         Orig, Disc  D’Agostino’s  103.590493  3.203393e-23\n",
              "  1         Clean,Disc  D’Agostino’s  239.235504  1.123752e-52\n",
              "  2   Orig, Full Price  D’Agostino’s  317.579615  1.092604e-69\n",
              "  3  Clean, Full Price  D’Agostino’s  281.007986  9.547531e-62,\n",
              "                DataIn     Test      stat             p\n",
              "  0         Orig, Disc  Shapiro  0.955760  3.409909e-15\n",
              "  1         Clean,Disc  Shapiro  0.868290  1.598946e-25\n",
              "  2   Orig, Full Price  Shapiro  0.919123  5.725075e-26\n",
              "  3  Clean, Full Price  Shapiro  0.855467  1.011598e-32,\n",
              "                DataIn          Test        stat             p\n",
              "  0         Orig, Disc  D’Agostino’s  103.590493  3.203393e-23\n",
              "  1         Clean,Disc  D’Agostino’s  239.235504  1.123752e-52\n",
              "  2   Orig, Full Price  D’Agostino’s  317.579615  1.092604e-69\n",
              "  3  Clean, Full Price  D’Agostino’s  281.007986  9.547531e-62)}"
            ]
          },
          "metadata": {
            "tags": []
          },
          "execution_count": 48
        }
      ]
    },
    {
      "metadata": {
        "id": "ty-b5aCGbVkf",
        "colab_type": "code",
        "outputId": "886170be-ebaf-4782-c3e2-be9777613046",
        "colab": {
          "base_uri": "https://localhost:8080/",
          "height": 668
        }
      },
      "cell_type": "code",
      "source": [
        "\n",
        "printDict=dataDict_results\n",
        "print(f'dataDict_results')\n",
        "for key, val in printDict.items():\n",
        "  print('          ',key)\n",
        "  print('             ',val)\n",
        "#   for k, v in printDict[key].items():\n",
        "#     print(f'   {k}\\n         has {len(v)} values with mean={np.mean(v)}')"
      ],
      "execution_count": 49,
      "outputs": [
        {
          "output_type": "stream",
          "text": [
            "dataDict_results\n",
            "           Original-Results\n",
            "              (              DataIn          Test        stat             p\n",
            "0         Orig, Disc       Shapiro    0.955760  3.409909e-15\n",
            "1         Clean,Disc       Shapiro    0.868290  1.598946e-25\n",
            "2   Orig, Full Price       Shapiro    0.919123  5.725075e-26\n",
            "3  Clean, Full Price       Shapiro    0.855467  1.011598e-32\n",
            "0         Orig, Disc  D’Agostino’s  103.590493  3.203393e-23\n",
            "1         Clean,Disc  D’Agostino’s  239.235504  1.123752e-52\n",
            "2   Orig, Full Price  D’Agostino’s  317.579615  1.092604e-69\n",
            "3  Clean, Full Price  D’Agostino’s  281.007986  9.547531e-62,               DataIn     Test      stat             p\n",
            "0         Orig, Disc  Shapiro  0.955760  3.409909e-15\n",
            "1         Clean,Disc  Shapiro  0.868290  1.598946e-25\n",
            "2   Orig, Full Price  Shapiro  0.919123  5.725075e-26\n",
            "3  Clean, Full Price  Shapiro  0.855467  1.011598e-32,               DataIn          Test        stat             p\n",
            "0         Orig, Disc  D’Agostino’s  103.590493  3.203393e-23\n",
            "1         Clean,Disc  D’Agostino’s  239.235504  1.123752e-52\n",
            "2   Orig, Full Price  D’Agostino’s  317.579615  1.092604e-69\n",
            "3  Clean, Full Price  D’Agostino’s  281.007986  9.547531e-62)\n",
            "           Transformed-Results\n",
            "              (              DataIn          Test        stat             p\n",
            "0         Orig, Disc       Shapiro    0.955760  3.409909e-15\n",
            "1         Clean,Disc       Shapiro    0.868290  1.598946e-25\n",
            "2   Orig, Full Price       Shapiro    0.919123  5.725075e-26\n",
            "3  Clean, Full Price       Shapiro    0.855467  1.011598e-32\n",
            "0         Orig, Disc  D’Agostino’s  103.590493  3.203393e-23\n",
            "1         Clean,Disc  D’Agostino’s  239.235504  1.123752e-52\n",
            "2   Orig, Full Price  D’Agostino’s  317.579615  1.092604e-69\n",
            "3  Clean, Full Price  D’Agostino’s  281.007986  9.547531e-62,               DataIn     Test      stat             p\n",
            "0         Orig, Disc  Shapiro  0.955760  3.409909e-15\n",
            "1         Clean,Disc  Shapiro  0.868290  1.598946e-25\n",
            "2   Orig, Full Price  Shapiro  0.919123  5.725075e-26\n",
            "3  Clean, Full Price  Shapiro  0.855467  1.011598e-32,               DataIn          Test        stat             p\n",
            "0         Orig, Disc  D’Agostino’s  103.590493  3.203393e-23\n",
            "1         Clean,Disc  D’Agostino’s  239.235504  1.123752e-52\n",
            "2   Orig, Full Price  D’Agostino’s  317.579615  1.092604e-69\n",
            "3  Clean, Full Price  D’Agostino’s  281.007986  9.547531e-62)\n"
          ],
          "name": "stdout"
        }
      ]
    },
    {
      "metadata": {
        "id": "0b4wlr87rR2b",
        "colab_type": "text"
      },
      "cell_type": "markdown",
      "source": [
        "## Now we are going to add resampling to produce normal distributions before sampling those to perform norm test and ttest_ind"
      ]
    },
    {
      "metadata": {
        "id": "L6n5eR-LrYhU",
        "colab_type": "code",
        "colab": {}
      },
      "cell_type": "code",
      "source": [
        "data_disc = df['Quantity'].loc[df['Discount']>0]\n",
        "data_fullprice = df['Quantity'].loc[df['Discount']==0]\n",
        "\n",
        "# data_dist.info(), print('n'), data_fullprice.info()"
      ],
      "execution_count": 0,
      "outputs": []
    },
    {
      "metadata": {
        "id": "bZuGT5f8rcf-",
        "colab_type": "code",
        "outputId": "d50c1604-33c4-46e8-bfa0-2b11a1e80b83",
        "colab": {
          "base_uri": "https://localhost:8080/",
          "height": 450
        }
      },
      "cell_type": "code",
      "source": [
        "# sample from the discounted \n",
        "n = 50 \n",
        "i = 10000\n",
        "pop_samp_disc = []\n",
        "pop_samp_full = []\n",
        "for i in range(0,i):\n",
        "  pop_samp_disc.append(data_disc.sample(n=30).mean())\n",
        "\n",
        "  pop_samp_full.append(data_disc.sample(n=30).mean())\n",
        "#   test_results.append(normaltest())\n",
        "# plt.hist([pop_samp_disc,pop_samp_full])\n",
        "pop_samp_disc = np.random.choice(pop_samp_disc,1000)\n",
        "pop_samp_full = np.random.choice(pop_samp_full, 1000)\n",
        "plt.hist(pop_samp_disc,alpha=0.5)\n",
        "plt.hist(pop_samp_full,alpha=0.5)\n",
        "\n",
        "plt.axvline(np.mean(pop_samp_disc),color='red',label='discounted')\n",
        "plt.axvline(np.mean(pop_samp_full),color='blue',label='full price')\n",
        "plt.show()\n",
        "\n",
        "stat,p = normaltest(pop_samp_full)\n",
        "stat, p\n",
        "tstat,tp = stats.ttest_ind(pop_samp_disc, pop_samp_full)\n",
        "tstat,tp"
      ],
      "execution_count": 51,
      "outputs": [
        {
          "output_type": "display_data",
          "data": {
            "image/png": "[encoded data removed]",
            "text/plain": [
              "<Figure size 640x480 with 1 Axes>"
            ]
          },
          "metadata": {
            "tags": []
          }
        },
        {
          "output_type": "execute_result",
          "data": {
            "text/plain": [
              "(-0.0639929713397913, 0.9489822248001195)"
            ]
          },
          "metadata": {
            "tags": []
          },
          "execution_count": 51
        }
      ]
    },
    {
      "metadata": {
        "id": "uRJbSmaEujs3",
        "colab_type": "code",
        "colab": {}
      },
      "cell_type": "code",
      "source": [
        "# # plt.hist([pop_samp_disc,pop_samp_full])\n",
        "# plt.figure()\n",
        "# plt.hist(pop_samp_disc,alpha=0.5,density=True)\n",
        "# plt.hist(pop_samp_full, alpha=0.5, density=True)\n",
        "\n",
        "# plt.axvline(np.mean(pop_samp_disc),color='red',label='discounted')\n",
        "# plt.axvline(np.mean(data_disc),color='blue',label='originaldiscounted')\n",
        "# plt.legend()\n",
        "# plt.show()"
      ],
      "execution_count": 0,
      "outputs": []
    },
    {
      "metadata": {
        "id": "Oo7In-gvtezW",
        "colab_type": "text"
      },
      "cell_type": "markdown",
      "source": [
        "### Below section was obsessing over get nice stacking/unstacking of the dataframe. ,\n",
        "moving on for now."
      ]
    },
    {
      "metadata": {
        "colab_type": "code",
        "id": "j46n28zjVI1E",
        "colab": {}
      },
      "cell_type": "code",
      "source": [
        "resultsAB, resultsA,resultsB = normtest_results(data_in)\n",
        "\n",
        "# list2df(results)\n",
        "# results.to_csv('norm_test_stack.csv')\n",
        "# df_Shapiro = list2df(resultsA)\n",
        "# df_Shapiro\n",
        "# df_Dago = list2df(resultsB)\n",
        "# df_Dago"
      ],
      "execution_count": 0,
      "outputs": []
    },
    {
      "metadata": {
        "id": "NZHJ-k-Xp3Kv",
        "colab_type": "code",
        "outputId": "4a581bf1-2e45-4af0-ad08-ba5de5915b9b",
        "colab": {
          "base_uri": "https://localhost:8080/",
          "height": 185
        }
      },
      "cell_type": "code",
      "source": [
        "df_Dago.pivot(index='DataIn',columns='Test').unstack(0)\n",
        "# df_Dago.unstack(0)\n"
      ],
      "execution_count": 54,
      "outputs": [
        {
          "output_type": "error",
          "ename": "NameError",
          "evalue": "ignored",
          "traceback": [
            "\u001b[0;31m---------------------------------------------------------------------------\u001b[0m",
            "\u001b[0;31mNameError\u001b[0m                                 Traceback (most recent call last)",
            "\u001b[0;32m<ipython-input-54-74c07d87efc7>\u001b[0m in \u001b[0;36m<module>\u001b[0;34m()\u001b[0m\n\u001b[0;32m----> 1\u001b[0;31m \u001b[0mdf_Dago\u001b[0m\u001b[0;34m.\u001b[0m\u001b[0mpivot\u001b[0m\u001b[0;34m(\u001b[0m\u001b[0mindex\u001b[0m\u001b[0;34m=\u001b[0m\u001b[0;34m'DataIn'\u001b[0m\u001b[0;34m,\u001b[0m\u001b[0mcolumns\u001b[0m\u001b[0;34m=\u001b[0m\u001b[0;34m'Test'\u001b[0m\u001b[0;34m)\u001b[0m\u001b[0;34m.\u001b[0m\u001b[0munstack\u001b[0m\u001b[0;34m(\u001b[0m\u001b[0;36m0\u001b[0m\u001b[0;34m)\u001b[0m\u001b[0;34m\u001b[0m\u001b[0;34m\u001b[0m\u001b[0m\n\u001b[0m\u001b[1;32m      2\u001b[0m \u001b[0;31m# df_Dago.unstack(0)\u001b[0m\u001b[0;34m\u001b[0m\u001b[0;34m\u001b[0m\u001b[0;34m\u001b[0m\u001b[0m\n",
            "\u001b[0;31mNameError\u001b[0m: name 'df_Dago' is not defined"
          ]
        }
      ]
    },
    {
      "metadata": {
        "id": "AzM4yMtMrUnX",
        "colab_type": "code",
        "colab": {}
      },
      "cell_type": "code",
      "source": [
        "index = resultsA[0][0] \n",
        "bigCols =resultsA[:][1] #[1:]\n",
        "# smallCOls = results\n",
        "bigCols"
      ],
      "execution_count": 0,
      "outputs": []
    },
    {
      "metadata": {
        "id": "nK8Wsi6fq0yj",
        "colab_type": "code",
        "colab": {}
      },
      "cell_type": "code",
      "source": [
        "dict_layout={'Dago':dict(resultsA.drop('Test',axis=1.columns), 'Shapiro':resultsB}\n",
        "pd.DataFrame.from_dict(dict_layout)"
      ],
      "execution_count": 0,
      "outputs": []
    },
    {
      "metadata": {
        "id": "8yDG2ibzm6if",
        "colab_type": "code",
        "colab": {}
      },
      "cell_type": "code",
      "source": [
        "colnames = results.columns[1:]\n",
        "test_names = results['Test']\n",
        "colnames, test_names.unique()\n",
        "new_names=[]\n",
        "for test in test_names:\n",
        "\n",
        "  for name in colnames:\n",
        "    cat_col = [name+'-'+test]\n",
        "    new_names.append(cat_col)\n",
        "new_names"
      ],
      "execution_count": 0,
      "outputs": []
    },
    {
      "metadata": {
        "id": "r2KxoI1snfzD",
        "colab_type": "code",
        "colab": {}
      },
      "cell_type": "code",
      "source": [
        "results_pivot = results.pivot(index='Test', columns='DataIn')#(index='DataIn', columns= 'Test') #creating pivot table \n",
        "side_by_side = results_pivot.stack(0)\n",
        "cols = side_by_side.columns\n",
        "cols = [cols[-1], cols[0], cols[2], cols[1]]\n",
        "compare_results = side_by_side[cols]\n",
        "compare_results"
      ],
      "execution_count": 0,
      "outputs": []
    },
    {
      "metadata": {
        "id": "Fuerb97Rm6Vj",
        "colab_type": "text"
      },
      "cell_type": "markdown",
      "source": [
        ""
      ]
    },
    {
      "metadata": {
        "id": "DQ-8uzaeV9VA",
        "colab_type": "code",
        "colab": {}
      },
      "cell_type": "code",
      "source": [
        "results_pivot = results.pivot(index='DataIn', columns=['Test']) #(index='DataIn', columns= 'Test') #creating pivot table \n",
        "# results_pivot.stack(0)"
      ],
      "execution_count": 0,
      "outputs": []
    },
    {
      "metadata": {
        "colab_type": "text",
        "id": "SdXLcGN2UsG8"
      },
      "cell_type": "markdown",
      "source": [
        "results_stack = results.stack(0)\n",
        "results_stack"
      ]
    },
    {
      "metadata": {
        "id": "vj7udmrErNIR",
        "colab_type": "code",
        "colab": {}
      },
      "cell_type": "code",
      "source": [
        ""
      ],
      "execution_count": 0,
      "outputs": []
    },
    {
      "metadata": {
        "colab_type": "text",
        "id": "CQ0Sd0KjwwR7"
      },
      "cell_type": "markdown",
      "source": [
        "## ...END BOOKMARK"
      ]
    },
    {
      "metadata": {
        "id": "ARClmsCLLoNf",
        "colab_type": "text"
      },
      "cell_type": "markdown",
      "source": [
        "# James's Notes on the overall workflow / pipeline\n",
        "**Don't forget about the codeacademy slides, [the tukey test they recommend is not from scipy, its from statsmodels]**(https://drive.google.com/drive/u/0/folders/18OI7pC76d6IJ5xI0ZA8A__Da9WI2rNon)\n",
        "1. Separate data into groups\n",
        "2. test groups for normality \n",
        "    - [Normaltest/ D’Agostino and Pearson’s](https://docs.scipy.org/doc/scipy/reference/generated/scipy.stats.normaltest.html)\n",
        "\n",
        "3. test groups for homo of variance\n",
        "    - [Levene's Test](https://docs.scipy.org/doc/scipy-0.14.0/reference/generated/scipy.stats.levene.html)\n",
        "4. Try to normalize data if possible?\n",
        "    - \n",
        "5. Choose test based on output\n",
        "    - Normal: 2 sample t-test\n",
        "    - Welch's t-test (Jeff)\n",
        "    - Not normal =     - [Mann Whitney U Test](https://docs.scipy.org/doc/scipy/reference/generated/scipy.stats.mannwhitneyu.html)\n",
        "5B. Calculate other statistics for result, i.e effect size...?\n",
        "    - Effect size: [cohen's d](https://stackoverflow.com/questions/21532471/how-to-calculate-cohens-d-in-python)\n",
        "6. Run test, if significant follow up with post-hoc tests (IF have more than 2 groups)\n",
        "    - [Tukey's](https://www.statsmodels.org/stable/generated/statsmodels.stats.multicomp.pairwise_tukeyhsd.html)\n",
        "\n",
        "**FOR US:**\n",
        "- **We should now separate the discounted data by values to create a group for each level and then run the pairwise Tukey's test**\n",
        "- We may want to re-check the assumptions for the new groups (levene's test and normaltest)\n",
        "    - The data may be parametric when divided this way, in which case we would run an [ANOVA](https://docs.scipy.org/doc/scipy/reference/generated/scipy.stats.f_oneway.html)\n",
        "        - If the ANOVA is significant, we would run a Tukey's anyway for pairwise comparison so I guess can maybe just jump right to the Tukey's test.\n",
        "- \n",
        "\n"
      ]
    },
    {
      "metadata": {
        "id": "dA459xbHLnoR",
        "colab_type": "code",
        "colab": {
          "base_uri": "https://localhost:8080/",
          "height": 351
        },
        "outputId": "071313c6-db9c-40bd-e1d4-272cfe4ddbbe"
      },
      "cell_type": "code",
      "source": [
        "# 1 - Separating groups\n",
        "dfj = df[['Quantity','UnitPrice','Discount']].copy()\n",
        "# dfj.info()\n",
        "\n",
        "dfj_D = dfj.loc[dfj['Discount']>0] \n",
        "dfj_F = dfj.loc[dfj['Discount']==0]\n",
        "dfj_D.describe(),'-----------'*4,dfj_F.describe()"
      ],
      "execution_count": 70,
      "outputs": [
        {
          "output_type": "execute_result",
          "data": {
            "text/plain": [
              "(         Quantity   UnitPrice    Discount\n",
              " count  838.000000  838.000000  838.000000\n",
              " mean    27.109785   26.292363    0.144439\n",
              " std     20.771439   30.017214    0.071808\n",
              " min      1.000000    2.000000    0.010000\n",
              " 25%     12.000000   12.500000    0.100000\n",
              " 50%     20.000000   18.000000    0.150000\n",
              " 75%     36.000000   31.230000    0.200000\n",
              " max    130.000000  263.500000    0.250000,\n",
              " '--------------------------------------------',\n",
              "           Quantity    UnitPrice  Discount\n",
              " count  1317.000000  1317.000000    1317.0\n",
              " mean     21.715262    26.171534       0.0\n",
              " std      17.507493    29.717354       0.0\n",
              " min       1.000000     2.000000       0.0\n",
              " 25%      10.000000    12.000000       0.0\n",
              " 50%      18.000000    18.400000       0.0\n",
              " 75%      30.000000    32.800000       0.0\n",
              " max     130.000000   263.500000       0.0)"
            ]
          },
          "metadata": {
            "tags": []
          },
          "execution_count": 70
        }
      ]
    },
    {
      "metadata": {
        "id": "ZcwUoJKjNIZu",
        "colab_type": "code",
        "colab": {
          "base_uri": "https://localhost:8080/",
          "height": 52
        },
        "outputId": "1926e376-596e-4867-8ffd-d2d6db3b0ebe"
      },
      "cell_type": "code",
      "source": [
        "# 2. Testing normality\n",
        "arrA = np.array(df['Quantity'].loc[df['Discount']>0])\n",
        "arrB = np.array(df['Quantity'].loc[df['Discount']==0])\n",
        "statA,pA = normaltest(arrA)\n",
        "statB,pB = normaltest(arrB)\n",
        "\n",
        "print(f'A:stat={statA}, p={pA}')\n",
        "print(f'B:stat={statB}, p={pB}')"
      ],
      "execution_count": 80,
      "outputs": [
        {
          "output_type": "stream",
          "text": [
            "A:stat=261.528012299789, p=1.6214878452829618e-57\n",
            "B:stat=544.5770045551502, p=5.579637380545965e-119\n"
          ],
          "name": "stdout"
        }
      ]
    },
    {
      "metadata": {
        "id": "Ows78wGWP7LH",
        "colab_type": "code",
        "colab": {
          "base_uri": "https://localhost:8080/",
          "height": 34
        },
        "outputId": "b7bfe95a-3d45-4080-90c5-9027d2d52889"
      },
      "cell_type": "code",
      "source": [
        "# 3. Test for homo var\n",
        "stats.levene(arrA,arrB,center='median')"
      ],
      "execution_count": 82,
      "outputs": [
        {
          "output_type": "execute_result",
          "data": {
            "text/plain": [
              "LeveneResult(statistic=14.832671704073421, pvalue=0.00012091378376079568)"
            ]
          },
          "metadata": {
            "tags": []
          },
          "execution_count": 82
        }
      ]
    },
    {
      "metadata": {
        "id": "Zq38mtURQaoN",
        "colab_type": "text"
      },
      "cell_type": "markdown",
      "source": [
        "### Conclusions so far...\n",
        "- We failed both normaltests and homo variance\n",
        "- Need non-parametric 2sample ttest\n",
        "    - [**Mann-Whitney U test**](https://docs.scipy.org/doc/scipy/reference/generated/scipy.stats.mannwhitneyu.html)"
      ]
    },
    {
      "metadata": {
        "id": "z0cdkzP5S9SX",
        "colab_type": "code",
        "colab": {
          "base_uri": "https://localhost:8080/",
          "height": 34
        },
        "outputId": "4d5d1898-86c9-4296-9ee2-559832daaf8c"
      },
      "cell_type": "code",
      "source": [
        "# Mann Whitney U test\n",
        "# arrA was discounted, arrB was non-discounted\n",
        "stats.mannwhitneyu(arrA,arrB,alternative='greater')"
      ],
      "execution_count": 87,
      "outputs": [
        {
          "output_type": "execute_result",
          "data": {
            "text/plain": [
              "MannwhitneyuResult(statistic=642105.0, pvalue=6.629381826999914e-11)"
            ]
          },
          "metadata": {
            "tags": []
          },
          "execution_count": 87
        }
      ]
    },
    {
      "metadata": {
        "id": "wHEx112CTia4",
        "colab_type": "text"
      },
      "cell_type": "markdown",
      "source": [
        "**We have a significant Mann Whitney U results, but we have yet to say anything about "
      ]
    },
    {
      "metadata": {
        "colab_type": "text",
        "id": "P23rLwIWwwTC"
      },
      "cell_type": "markdown",
      "source": [
        "## Exploring data"
      ]
    },
    {
      "metadata": {
        "id": "eeQIJm_ESU6C",
        "colab_type": "text"
      },
      "cell_type": "markdown",
      "source": [
        ""
      ]
    },
    {
      "metadata": {
        "colab_type": "text",
        "id": "-xn_WHdcwwTT"
      },
      "cell_type": "markdown",
      "source": [
        "## Experimental"
      ]
    },
    {
      "metadata": {
        "colab_type": "code",
        "id": "a_22M7dSftkZ",
        "colab": {}
      },
      "cell_type": "code",
      "source": [
        ""
      ],
      "execution_count": 0,
      "outputs": []
    }
  ]
}